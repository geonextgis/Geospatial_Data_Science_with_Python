{
 "cells": [
  {
   "cell_type": "markdown",
   "id": "e6306d60-f335-4df2-9529-bea07f0b66fd",
   "metadata": {},
   "source": [
    "## 01. Importing Required Libraries"
   ]
  },
  {
   "cell_type": "code",
   "execution_count": 1,
   "id": "d37c0b89-861e-4576-8fab-a76f15ec2b5b",
   "metadata": {},
   "outputs": [],
   "source": [
    "import numpy as np\n",
    "import pandas as pd\n",
    "import matplotlib.pyplot as plt\n",
    "from sklearn import linear_model\n",
    "from sklearn.metrics import mean_squared_error\n",
    "%matplotlib inline"
   ]
  },
  {
   "cell_type": "markdown",
   "id": "66b53b16-37d7-4940-8c2e-9564cdaf9260",
   "metadata": {},
   "source": [
    "## 02. Reading the CSV with Pandas"
   ]
  },
  {
   "cell_type": "code",
   "execution_count": 2,
   "id": "94bd9866-63dd-4066-8b6e-330340fae1a6",
   "metadata": {},
   "outputs": [
    {
     "data": {
      "text/html": [
       "<div>\n",
       "<style scoped>\n",
       "    .dataframe tbody tr th:only-of-type {\n",
       "        vertical-align: middle;\n",
       "    }\n",
       "\n",
       "    .dataframe tbody tr th {\n",
       "        vertical-align: top;\n",
       "    }\n",
       "\n",
       "    .dataframe thead th {\n",
       "        text-align: right;\n",
       "    }\n",
       "</style>\n",
       "<table border=\"1\" class=\"dataframe\">\n",
       "  <thead>\n",
       "    <tr style=\"text-align: right;\">\n",
       "      <th></th>\n",
       "      <th>Year</th>\n",
       "      <th>GDP</th>\n",
       "      <th>Per Capita</th>\n",
       "      <th>Growth</th>\n",
       "    </tr>\n",
       "  </thead>\n",
       "  <tbody>\n",
       "    <tr>\n",
       "      <th>0</th>\n",
       "      <td>2021</td>\n",
       "      <td>$23,315.08B</td>\n",
       "      <td>$70,249</td>\n",
       "      <td>5.95%</td>\n",
       "    </tr>\n",
       "    <tr>\n",
       "      <th>1</th>\n",
       "      <td>2020</td>\n",
       "      <td>$21,060.47B</td>\n",
       "      <td>$63,531</td>\n",
       "      <td>-2.77%</td>\n",
       "    </tr>\n",
       "    <tr>\n",
       "      <th>2</th>\n",
       "      <td>2019</td>\n",
       "      <td>$21,380.98B</td>\n",
       "      <td>$65,120</td>\n",
       "      <td>2.29%</td>\n",
       "    </tr>\n",
       "    <tr>\n",
       "      <th>3</th>\n",
       "      <td>2018</td>\n",
       "      <td>$20,533.06B</td>\n",
       "      <td>$62,823</td>\n",
       "      <td>2.95%</td>\n",
       "    </tr>\n",
       "    <tr>\n",
       "      <th>4</th>\n",
       "      <td>2017</td>\n",
       "      <td>$19,477.34B</td>\n",
       "      <td>$59,908</td>\n",
       "      <td>2.24%</td>\n",
       "    </tr>\n",
       "  </tbody>\n",
       "</table>\n",
       "</div>"
      ],
      "text/plain": [
       "   Year          GDP Per Capita  Growth\n",
       "0  2021  $23,315.08B    $70,249   5.95%\n",
       "1  2020  $21,060.47B    $63,531  -2.77%\n",
       "2  2019  $21,380.98B    $65,120   2.29%\n",
       "3  2018  $20,533.06B    $62,823   2.95%\n",
       "4  2017  $19,477.34B    $59,908   2.24%"
      ]
     },
     "execution_count": 2,
     "metadata": {},
     "output_type": "execute_result"
    }
   ],
   "source": [
    "df = pd.read_csv(\"GDP_per_capita_usa.csv\")\n",
    "df.head()"
   ]
  },
  {
   "cell_type": "markdown",
   "id": "aa48abbf-3fa7-4052-a815-0e2b0fd28259",
   "metadata": {},
   "source": [
    "## 03. Data Preprocessing"
   ]
  },
  {
   "cell_type": "code",
   "execution_count": 3,
   "id": "422e8b9d-2e79-427e-9920-758fc0b496da",
   "metadata": {},
   "outputs": [],
   "source": [
    "# Removing the dollar, comma and percentage symbol from the dataframe\n",
    "df[\"GDP\"] = df[\"GDP\"].str.replace(\"$\", \"\")\n",
    "df[\"GDP\"] = df[\"GDP\"].str.replace(\",\", \"\")\n",
    "df[\"GDP\"] = df[\"GDP\"].str.replace(\"B\", \"\")\n",
    "df[\"Per Capita\"] = df[\"Per Capita\"].str.replace(\"$\", \"\")\n",
    "df[\"Per Capita\"] = df[\"Per Capita\"].str.replace(\",\", \"\")\n",
    "df[\"Growth\"] = df[\"Growth\"].str.replace(\"%\", \"\")"
   ]
  },
  {
   "cell_type": "code",
   "execution_count": 4,
   "id": "a8574f90-6a57-4d8f-a824-4fd26231c24e",
   "metadata": {},
   "outputs": [
    {
     "data": {
      "text/html": [
       "<div>\n",
       "<style scoped>\n",
       "    .dataframe tbody tr th:only-of-type {\n",
       "        vertical-align: middle;\n",
       "    }\n",
       "\n",
       "    .dataframe tbody tr th {\n",
       "        vertical-align: top;\n",
       "    }\n",
       "\n",
       "    .dataframe thead th {\n",
       "        text-align: right;\n",
       "    }\n",
       "</style>\n",
       "<table border=\"1\" class=\"dataframe\">\n",
       "  <thead>\n",
       "    <tr style=\"text-align: right;\">\n",
       "      <th></th>\n",
       "      <th>Year</th>\n",
       "      <th>GDP</th>\n",
       "      <th>Per Capita</th>\n",
       "      <th>Growth</th>\n",
       "    </tr>\n",
       "  </thead>\n",
       "  <tbody>\n",
       "    <tr>\n",
       "      <th>0</th>\n",
       "      <td>2021</td>\n",
       "      <td>23315.08</td>\n",
       "      <td>70249</td>\n",
       "      <td>5.95</td>\n",
       "    </tr>\n",
       "    <tr>\n",
       "      <th>1</th>\n",
       "      <td>2020</td>\n",
       "      <td>21060.47</td>\n",
       "      <td>63531</td>\n",
       "      <td>-2.77</td>\n",
       "    </tr>\n",
       "    <tr>\n",
       "      <th>2</th>\n",
       "      <td>2019</td>\n",
       "      <td>21380.98</td>\n",
       "      <td>65120</td>\n",
       "      <td>2.29</td>\n",
       "    </tr>\n",
       "    <tr>\n",
       "      <th>3</th>\n",
       "      <td>2018</td>\n",
       "      <td>20533.06</td>\n",
       "      <td>62823</td>\n",
       "      <td>2.95</td>\n",
       "    </tr>\n",
       "    <tr>\n",
       "      <th>4</th>\n",
       "      <td>2017</td>\n",
       "      <td>19477.34</td>\n",
       "      <td>59908</td>\n",
       "      <td>2.24</td>\n",
       "    </tr>\n",
       "  </tbody>\n",
       "</table>\n",
       "</div>"
      ],
      "text/plain": [
       "   Year       GDP Per Capita Growth\n",
       "0  2021  23315.08      70249   5.95\n",
       "1  2020  21060.47      63531  -2.77\n",
       "2  2019  21380.98      65120   2.29\n",
       "3  2018  20533.06      62823   2.95\n",
       "4  2017  19477.34      59908   2.24"
      ]
     },
     "execution_count": 4,
     "metadata": {},
     "output_type": "execute_result"
    }
   ],
   "source": [
    "# Checking the dataframe\n",
    "df.head()"
   ]
  },
  {
   "cell_type": "code",
   "execution_count": 5,
   "id": "2423c9bd-adb7-491e-975a-0e99b20c0b03",
   "metadata": {},
   "outputs": [
    {
     "data": {
      "text/plain": [
       "Year           int64\n",
       "GDP           object\n",
       "Per Capita    object\n",
       "Growth        object\n",
       "dtype: object"
      ]
     },
     "execution_count": 5,
     "metadata": {},
     "output_type": "execute_result"
    }
   ],
   "source": [
    "# Checking the datatypes of the columns\n",
    "df.dtypes"
   ]
  },
  {
   "cell_type": "code",
   "execution_count": 6,
   "id": "ec573997-47dd-4012-8691-87afc6caa3fe",
   "metadata": {},
   "outputs": [],
   "source": [
    "# Using a dictionary to change the datatype of columns from object to int and float\n",
    "dt_convert = {\n",
    "    \"GDP\": float,\n",
    "    \"Per Capita\": float,\n",
    "}"
   ]
  },
  {
   "cell_type": "code",
   "execution_count": 7,
   "id": "884d8b64-d0fe-416e-9bb8-4724f455147a",
   "metadata": {},
   "outputs": [
    {
     "data": {
      "text/plain": [
       "Year            int64\n",
       "GDP           float64\n",
       "Per Capita    float64\n",
       "Growth         object\n",
       "dtype: object"
      ]
     },
     "execution_count": 7,
     "metadata": {},
     "output_type": "execute_result"
    }
   ],
   "source": [
    "# Changing the datatypes of the columns\n",
    "df = df.astype(dt_convert)\n",
    "df.dtypes"
   ]
  },
  {
   "cell_type": "code",
   "execution_count": 8,
   "id": "1811488d-3645-4db5-9fdc-6fe92ae304fd",
   "metadata": {},
   "outputs": [
    {
     "data": {
      "text/html": [
       "<div>\n",
       "<style scoped>\n",
       "    .dataframe tbody tr th:only-of-type {\n",
       "        vertical-align: middle;\n",
       "    }\n",
       "\n",
       "    .dataframe tbody tr th {\n",
       "        vertical-align: top;\n",
       "    }\n",
       "\n",
       "    .dataframe thead th {\n",
       "        text-align: right;\n",
       "    }\n",
       "</style>\n",
       "<table border=\"1\" class=\"dataframe\">\n",
       "  <thead>\n",
       "    <tr style=\"text-align: right;\">\n",
       "      <th></th>\n",
       "      <th>Year</th>\n",
       "      <th>GDP</th>\n",
       "      <th>Per Capita</th>\n",
       "      <th>Growth</th>\n",
       "    </tr>\n",
       "  </thead>\n",
       "  <tbody>\n",
       "    <tr>\n",
       "      <th>0</th>\n",
       "      <td>2021</td>\n",
       "      <td>23315.08</td>\n",
       "      <td>70249.0</td>\n",
       "      <td>5.95</td>\n",
       "    </tr>\n",
       "    <tr>\n",
       "      <th>1</th>\n",
       "      <td>2020</td>\n",
       "      <td>21060.47</td>\n",
       "      <td>63531.0</td>\n",
       "      <td>-2.77</td>\n",
       "    </tr>\n",
       "    <tr>\n",
       "      <th>2</th>\n",
       "      <td>2019</td>\n",
       "      <td>21380.98</td>\n",
       "      <td>65120.0</td>\n",
       "      <td>2.29</td>\n",
       "    </tr>\n",
       "    <tr>\n",
       "      <th>3</th>\n",
       "      <td>2018</td>\n",
       "      <td>20533.06</td>\n",
       "      <td>62823.0</td>\n",
       "      <td>2.95</td>\n",
       "    </tr>\n",
       "    <tr>\n",
       "      <th>4</th>\n",
       "      <td>2017</td>\n",
       "      <td>19477.34</td>\n",
       "      <td>59908.0</td>\n",
       "      <td>2.24</td>\n",
       "    </tr>\n",
       "  </tbody>\n",
       "</table>\n",
       "</div>"
      ],
      "text/plain": [
       "   Year       GDP  Per Capita Growth\n",
       "0  2021  23315.08     70249.0   5.95\n",
       "1  2020  21060.47     63531.0  -2.77\n",
       "2  2019  21380.98     65120.0   2.29\n",
       "3  2018  20533.06     62823.0   2.95\n",
       "4  2017  19477.34     59908.0   2.24"
      ]
     },
     "execution_count": 8,
     "metadata": {},
     "output_type": "execute_result"
    }
   ],
   "source": [
    "# Checking the dataframe\n",
    "df.head()"
   ]
  },
  {
   "cell_type": "code",
   "execution_count": 9,
   "id": "cc4c9367-ec3a-4d84-a2cf-cb9a3ab542af",
   "metadata": {},
   "outputs": [
    {
     "data": {
      "text/html": [
       "<div>\n",
       "<style scoped>\n",
       "    .dataframe tbody tr th:only-of-type {\n",
       "        vertical-align: middle;\n",
       "    }\n",
       "\n",
       "    .dataframe tbody tr th {\n",
       "        vertical-align: top;\n",
       "    }\n",
       "\n",
       "    .dataframe thead th {\n",
       "        text-align: right;\n",
       "    }\n",
       "</style>\n",
       "<table border=\"1\" class=\"dataframe\">\n",
       "  <thead>\n",
       "    <tr style=\"text-align: right;\">\n",
       "      <th></th>\n",
       "      <th>Year</th>\n",
       "      <th>GDP</th>\n",
       "      <th>Per Capita</th>\n",
       "    </tr>\n",
       "  </thead>\n",
       "  <tbody>\n",
       "    <tr>\n",
       "      <th>count</th>\n",
       "      <td>62.000000</td>\n",
       "      <td>62.000000</td>\n",
       "      <td>62.000000</td>\n",
       "    </tr>\n",
       "    <tr>\n",
       "      <th>mean</th>\n",
       "      <td>1990.500000</td>\n",
       "      <td>7935.587903</td>\n",
       "      <td>27417.145161</td>\n",
       "    </tr>\n",
       "    <tr>\n",
       "      <th>std</th>\n",
       "      <td>18.041619</td>\n",
       "      <td>6738.805659</td>\n",
       "      <td>20172.070442</td>\n",
       "    </tr>\n",
       "    <tr>\n",
       "      <th>min</th>\n",
       "      <td>1960.000000</td>\n",
       "      <td>543.300000</td>\n",
       "      <td>3007.000000</td>\n",
       "    </tr>\n",
       "    <tr>\n",
       "      <th>25%</th>\n",
       "      <td>1975.250000</td>\n",
       "      <td>1732.027500</td>\n",
       "      <td>7998.750000</td>\n",
       "    </tr>\n",
       "    <tr>\n",
       "      <th>50%</th>\n",
       "      <td>1990.500000</td>\n",
       "      <td>6060.635000</td>\n",
       "      <td>24115.500000</td>\n",
       "    </tr>\n",
       "    <tr>\n",
       "      <th>75%</th>\n",
       "      <td>2005.750000</td>\n",
       "      <td>13621.492500</td>\n",
       "      <td>45757.250000</td>\n",
       "    </tr>\n",
       "    <tr>\n",
       "      <th>max</th>\n",
       "      <td>2021.000000</td>\n",
       "      <td>23315.080000</td>\n",
       "      <td>70249.000000</td>\n",
       "    </tr>\n",
       "  </tbody>\n",
       "</table>\n",
       "</div>"
      ],
      "text/plain": [
       "              Year           GDP    Per Capita\n",
       "count    62.000000     62.000000     62.000000\n",
       "mean   1990.500000   7935.587903  27417.145161\n",
       "std      18.041619   6738.805659  20172.070442\n",
       "min    1960.000000    543.300000   3007.000000\n",
       "25%    1975.250000   1732.027500   7998.750000\n",
       "50%    1990.500000   6060.635000  24115.500000\n",
       "75%    2005.750000  13621.492500  45757.250000\n",
       "max    2021.000000  23315.080000  70249.000000"
      ]
     },
     "execution_count": 9,
     "metadata": {},
     "output_type": "execute_result"
    }
   ],
   "source": [
    "# Evaluating the general statistics of the dataframe\n",
    "df.describe()"
   ]
  },
  {
   "cell_type": "markdown",
   "id": "9b16e45d-809c-45b6-81bd-3c10d4b4be91",
   "metadata": {},
   "source": [
    "## 04. Create a Scatterplot between Year and GDP Per Capita"
   ]
  },
  {
   "cell_type": "code",
   "execution_count": 10,
   "id": "6d824834-e147-4d65-bcc3-d55837e22f5d",
   "metadata": {},
   "outputs": [],
   "source": [
    "# Selecting independent(x) and dependent variable(y)\n",
    "# independent variable = Year\n",
    "# dependent variable = GDP Per Capita (US $)\n",
    "x = df[[\"Year\"]].values\n",
    "y = df[[\"Per Capita\"]].values"
   ]
  },
  {
   "cell_type": "code",
   "execution_count": 11,
   "id": "c38d5478-80af-4cc6-a87d-c1f948921f2e",
   "metadata": {},
   "outputs": [
    {
     "data": {
      "image/png": "[encoded data removed]",
      "text/plain": [
       "<Figure size 640x480 with 1 Axes>"
      ]
     },
     "metadata": {},
     "output_type": "display_data"
    }
   ],
   "source": [
    "plt.plot(x, y)\n",
    "plt.title(\"USA GDP Per Capita (US$)\")\n",
    "plt.xlabel(\"Year\")\n",
    "plt.ylabel(\"GDP Per Capita (US$)\")\n",
    "plt.show()"
   ]
  },
  {
   "cell_type": "markdown",
   "id": "673faa9c-b97c-4913-bfb9-81ff075c3151",
   "metadata": {},
   "source": [
    "## 05. Creating a Linear Regression Object"
   ]
  },
  {
   "cell_type": "code",
   "execution_count": 12,
   "id": "55481d0e-5085-40b3-973f-dfe6b5c194a0",
   "metadata": {},
   "outputs": [],
   "source": [
    "lin_reg = linear_model.LinearRegression()"
   ]
  },
  {
   "cell_type": "code",
   "execution_count": 13,
   "id": "c0061af8-851f-4d47-b50e-8073adbd5175",
   "metadata": {},
   "outputs": [
    {
     "data": {
      "text/html": [
       "<style>#sk-container-id-1 {color: black;background-color: white;}#sk-container-id-1 pre{padding: 0;}#sk-container-id-1 div.sk-toggleable {background-color: white;}#sk-container-id-1 label.sk-toggleable__label {cursor: pointer;display: block;width: 100%;margin-bottom: 0;padding: 0.3em;box-sizing: border-box;text-align: center;}#sk-container-id-1 label.sk-toggleable__label-arrow:before {content: \"▸\";float: left;margin-right: 0.25em;color: #696969;}#sk-container-id-1 label.sk-toggleable__label-arrow:hover:before {color: black;}#sk-container-id-1 div.sk-estimator:hover label.sk-toggleable__label-arrow:before {color: black;}#sk-container-id-1 div.sk-toggleable__content {max-height: 0;max-width: 0;overflow: hidden;text-align: left;background-color: #f0f8ff;}#sk-container-id-1 div.sk-toggleable__content pre {margin: 0.2em;color: black;border-radius: 0.25em;background-color: #f0f8ff;}#sk-container-id-1 input.sk-toggleable__control:checked~div.sk-toggleable__content {max-height: 200px;max-width: 100%;overflow: auto;}#sk-container-id-1 input.sk-toggleable__control:checked~label.sk-toggleable__label-arrow:before {content: \"▾\";}#sk-container-id-1 div.sk-estimator input.sk-toggleable__control:checked~label.sk-toggleable__label {background-color: #d4ebff;}#sk-container-id-1 div.sk-label input.sk-toggleable__control:checked~label.sk-toggleable__label {background-color: #d4ebff;}#sk-container-id-1 input.sk-hidden--visually {border: 0;clip: rect(1px 1px 1px 1px);clip: rect(1px, 1px, 1px, 1px);height: 1px;margin: -1px;overflow: hidden;padding: 0;position: absolute;width: 1px;}#sk-container-id-1 div.sk-estimator {font-family: monospace;background-color: #f0f8ff;border: 1px dotted black;border-radius: 0.25em;box-sizing: border-box;margin-bottom: 0.5em;}#sk-container-id-1 div.sk-estimator:hover {background-color: #d4ebff;}#sk-container-id-1 div.sk-parallel-item::after {content: \"\";width: 100%;border-bottom: 1px solid gray;flex-grow: 1;}#sk-container-id-1 div.sk-label:hover label.sk-toggleable__label {background-color: #d4ebff;}#sk-container-id-1 div.sk-serial::before {content: \"\";position: absolute;border-left: 1px solid gray;box-sizing: border-box;top: 0;bottom: 0;left: 50%;z-index: 0;}#sk-container-id-1 div.sk-serial {display: flex;flex-direction: column;align-items: center;background-color: white;padding-right: 0.2em;padding-left: 0.2em;position: relative;}#sk-container-id-1 div.sk-item {position: relative;z-index: 1;}#sk-container-id-1 div.sk-parallel {display: flex;align-items: stretch;justify-content: center;background-color: white;position: relative;}#sk-container-id-1 div.sk-item::before, #sk-container-id-1 div.sk-parallel-item::before {content: \"\";position: absolute;border-left: 1px solid gray;box-sizing: border-box;top: 0;bottom: 0;left: 50%;z-index: -1;}#sk-container-id-1 div.sk-parallel-item {display: flex;flex-direction: column;z-index: 1;position: relative;background-color: white;}#sk-container-id-1 div.sk-parallel-item:first-child::after {align-self: flex-end;width: 50%;}#sk-container-id-1 div.sk-parallel-item:last-child::after {align-self: flex-start;width: 50%;}#sk-container-id-1 div.sk-parallel-item:only-child::after {width: 0;}#sk-container-id-1 div.sk-dashed-wrapped {border: 1px dashed gray;margin: 0 0.4em 0.5em 0.4em;box-sizing: border-box;padding-bottom: 0.4em;background-color: white;}#sk-container-id-1 div.sk-label label {font-family: monospace;font-weight: bold;display: inline-block;line-height: 1.2em;}#sk-container-id-1 div.sk-label-container {text-align: center;}#sk-container-id-1 div.sk-container {/* jupyter's `normalize.less` sets `[hidden] { display: none; }` but bootstrap.min.css set `[hidden] { display: none !important; }` so we also need the `!important` here to be able to override the default hidden behavior on the sphinx rendered scikit-learn.org. See: https://github.com/scikit-learn/scikit-learn/issues/21755 */display: inline-block !important;position: relative;}#sk-container-id-1 div.sk-text-repr-fallback {display: none;}</style><div id=\"sk-container-id-1\" class=\"sk-top-container\"><div class=\"sk-text-repr-fallback\"><pre>LinearRegression()</pre><b>In a Jupyter environment, please rerun this cell to show the HTML representation or trust the notebook. <br />On GitHub, the HTML representation is unable to render, please try loading this page with nbviewer.org.</b></div><div class=\"sk-container\" hidden><div class=\"sk-item\"><div class=\"sk-estimator sk-toggleable\"><input class=\"sk-toggleable__control sk-hidden--visually\" id=\"sk-estimator-id-1\" type=\"checkbox\" checked><label for=\"sk-estimator-id-1\" class=\"sk-toggleable__label sk-toggleable__label-arrow\">LinearRegression</label><div class=\"sk-toggleable__content\"><pre>LinearRegression()</pre></div></div></div></div></div>"
      ],
      "text/plain": [
       "LinearRegression()"
      ]
     },
     "execution_count": 13,
     "metadata": {},
     "output_type": "execute_result"
    }
   ],
   "source": [
    "# Training the Linear Regression model\n",
    "lin_reg.fit(x, y)"
   ]
  },
  {
   "cell_type": "markdown",
   "id": "787f59f0-5625-4992-ac13-de1b0d53fcbb",
   "metadata": {},
   "source": [
    "## 06. Accessing the Slope and Intercept\n",
    "Linear Equation: <br>\n",
    "**y = mx + c**<br>\n",
    "where,<br>\n",
    "\ty = independent variable<br>\n",
    "    m = slope<br>\n",
    "    x = dependent variable<br>\n",
    "    c = intercept<br>"
   ]
  },
  {
   "cell_type": "code",
   "execution_count": 14,
   "id": "c1b5d84c-fb63-4c0e-ae6a-c6edee2b0998",
   "metadata": {},
   "outputs": [
    {
     "name": "stdout",
     "output_type": "stream",
     "text": [
      "Slope(m): [[1099.76930825]]\n"
     ]
    }
   ],
   "source": [
    "slope = lin_reg.coef_\n",
    "print(\"Slope(m):\", slope)"
   ]
  },
  {
   "cell_type": "code",
   "execution_count": 15,
   "id": "396f97e2-a072-4ddb-a105-dda7a333ab18",
   "metadata": {},
   "outputs": [
    {
     "name": "stdout",
     "output_type": "stream",
     "text": [
      "intercept(c): [-2161673.66291456]\n"
     ]
    }
   ],
   "source": [
    "intercept = lin_reg.intercept_\n",
    "print(\"intercept(c):\", intercept)"
   ]
  },
  {
   "cell_type": "markdown",
   "id": "ace13b85-8356-4f71-b114-f48e3878c7cb",
   "metadata": {},
   "source": [
    "## 07. Predicting the GDP of Year 2030, 2040 and 2050"
   ]
  },
  {
   "cell_type": "code",
   "execution_count": 16,
   "id": "9fb0e890-b955-44e3-8c81-36f5c2c5b881",
   "metadata": {},
   "outputs": [
    {
     "data": {
      "text/plain": [
       "array([[70858.03283725],\n",
       "       [81855.72591977],\n",
       "       [92853.41900229]])"
      ]
     },
     "execution_count": 16,
     "metadata": {},
     "output_type": "execute_result"
    }
   ],
   "source": [
    "lin_reg.predict([[2030], [2040], [2050]])"
   ]
  },
  {
   "cell_type": "markdown",
   "id": "d15df2f3-9113-4a87-917f-c441d7f3f53f",
   "metadata": {},
   "source": [
    "## Assessing the Accuracy of the Linear Regression Model"
   ]
  },
  {
   "cell_type": "code",
   "execution_count": 17,
   "id": "83af610b-4783-40ea-a378-a2c15be6f7b6",
   "metadata": {},
   "outputs": [],
   "source": [
    "# Predicting the GDP of all the years in the dataframe\n",
    "predicted_gdp = lin_reg.predict(x)"
   ]
  },
  {
   "cell_type": "code",
   "execution_count": 18,
   "id": "cc968676-42bb-4fff-b26e-e2f366cfaab3",
   "metadata": {},
   "outputs": [
    {
     "data": {
      "image/png": "[encoded data removed]",
      "text/plain": [
       "<Figure size 640x480 with 1 Axes>"
      ]
     },
     "metadata": {},
     "output_type": "display_data"
    }
   ],
   "source": [
    "# Plotting the Regression Line\n",
    "plt.plot(x, y)\n",
    "plt.plot(x, predicted_gdp, linestyle=\"--\", linewidth=1)\n",
    "plt.title(\"USA GDP Per Capita (US$)\")\n",
    "plt.xlabel(\"Year\")\n",
    "plt.ylabel(\"GDP Per Capita (US$)\")\n",
    "plt.show()"
   ]
  }
 ],
 "metadata": {
  "kernelspec": {
   "display_name": "Python 3 (ipykernel)",
   "language": "python",
   "name": "python3"
  },
  "language_info": {
   "codemirror_mode": {
    "name": "ipython",
    "version": 3
   },
   "file_extension": ".py",
   "mimetype": "text/x-python",
   "name": "python",
   "nbconvert_exporter": "python",
   "pygments_lexer": "ipython3",
   "version": "3.10.10"
  }
 },
 "nbformat": 4,
 "nbformat_minor": 5
}
