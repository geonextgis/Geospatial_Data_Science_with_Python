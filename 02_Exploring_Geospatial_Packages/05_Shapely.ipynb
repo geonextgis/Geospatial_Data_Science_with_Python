{
 "cells": [
  {
   "cell_type": "markdown",
   "id": "39aca38e-7cae-44c5-8828-37b162f5e8d0",
   "metadata": {},
   "source": [
    "# **Shapely**\n",
    "**Author: Krishnagopal Halder**\n",
    "\n",
    "Shapely is a powerful Python library for geometric operations and manipulations. It provides a convenient and intuitive interface for working with geometric objects such as points, lines, polygons, and more. Developed by Sean Gillies, Shapely is built on top of the widely-used GEOS (Geometry Engine - Open Source) library, which enables robust and efficient geometric computations.\n",
    "\n",
    "Shapely is particularly useful in the field of spatial analysis and geospatial applications. It allows you to perform a wide range of operations on geometric objects, including spatial relationships, geometric transformations, spatial predicates, and spatial measurements. Whether you need to calculate distances between points, determine if two polygons intersect, or simplify a complex geometry, Shapely provides the tools to accomplish these tasks."
   ]
  },
  {
   "cell_type": "markdown",
   "id": "913bbc76-c023-496e-8919-8efaeee0474a",
   "metadata": {},
   "source": [
    "## **01. Importing Required Libraries**"
   ]
  },
  {
   "cell_type": "code",
   "execution_count": 1,
   "id": "ca5c5c7a-52f8-4203-a420-83ad11185937",
   "metadata": {},
   "outputs": [],
   "source": [
    "import shapely.geometry\n",
    "import shapely.wkt\n",
    "import matplotlib.pyplot as plt"
   ]
  },
  {
   "cell_type": "markdown",
   "id": "c48ffb3b-d291-4875-bc9e-ae8511b9d800",
   "metadata": {},
   "source": [
    "## **02. Creating Shapely Geometry from WKT**\n",
    "In Shapely, WKT stands for \"Well-Known Text,\" which is a standard text-based representation format for geometric objects. Shapely provides support for parsing WKT strings into Shapely geometry objects and generating WKT representations from existing geometries.\n",
    "\n",
    "To work with WKT in Shapely, you need to import the shapely.wkt module.\n",
    "\n",
    "We have a WKT string \"Polygon((0 0, 0 -5, 10 -5, 10 0, 0 0))\", which represents a Polygon with five points. We use wkt.loads() to parse the WKT string and create a Shapely Ploygon geometry object.\n",
    "\n",
    "By leveraging the WKT format, you can easily create Shapely geometries from text-based representations and vice versa. This is particularly useful when you need to store or exchange geometric data in a standard format that is independent of specific programming languages or software packages."
   ]
  },
  {
   "cell_type": "code",
   "execution_count": 2,
   "id": "1f05644e-e0d8-4133-bd1a-dead1e1992fd",
   "metadata": {},
   "outputs": [],
   "source": [
    "# Defining WKT strings to represent a polygon, a line string and a point\n",
    "poly_wkt = \"Polygon((0 0, 0 -5, 10 -5, 10 0, 0 0))\"\n",
    "line_wkt = \"LineString(0 0, 10 0, 10 -5)\"\n",
    "point_wkt = \"Point(0 0)\"\n",
    "# Parsing the WKT strings to create Shapely geometry objects\n",
    "poly = shapely.wkt.loads(poly_wkt)\n",
    "line = shapely.wkt.loads(line_wkt) \n",
    "point = shapely.wkt.loads(point_wkt)"
   ]
  },
  {
   "cell_type": "code",
   "execution_count": 3,
   "id": "ab5f46c0-b21e-4d72-bbcd-9d0ec4585d37",
   "metadata": {},
   "outputs": [
    {
     "name": "stdout",
     "output_type": "stream",
     "text": [
      "POLYGON ((0 0, 0 -5, 10 -5, 10 0, 0 0))\n",
      "<class 'shapely.geometry.polygon.Polygon'>\n"
     ]
    },
    {
     "data": {
      "image/svg+xml": [
       "<svg xmlns=\"http://www.w3.org/2000/svg\" xmlns:xlink=\"http://www.w3.org/1999/xlink\" width=\"100.0\" height=\"100.0\" viewBox=\"-0.4 -5.4 10.8 5.800000000000001\" preserveAspectRatio=\"xMinYMin meet\"><g transform=\"matrix(1,0,0,-1,0,-5.0)\"><path fill-rule=\"evenodd\" fill=\"#66cc99\" stroke=\"#555555\" stroke-width=\"0.21600000000000003\" opacity=\"0.6\" d=\"M 0.0,0.0 L 0.0,-5.0 L 10.0,-5.0 L 10.0,0.0 L 0.0,0.0 z\" /></g></svg>"
      ],
      "text/plain": [
       "<POLYGON ((0 0, 0 -5, 10 -5, 10 0, 0 0))>"
      ]
     },
     "execution_count": 3,
     "metadata": {},
     "output_type": "execute_result"
    }
   ],
   "source": [
    "# Printing the Polygon Shapely geometry\n",
    "print(poly)\n",
    "print(type(poly))\n",
    "poly"
   ]
  },
  {
   "cell_type": "code",
   "execution_count": 4,
   "id": "6c9a1e87-d731-4c8f-b783-a747ee7d08a2",
   "metadata": {},
   "outputs": [
    {
     "name": "stdout",
     "output_type": "stream",
     "text": [
      "LINESTRING (0 0, 10 0, 10 -5)\n",
      "<class 'shapely.geometry.linestring.LineString'>\n"
     ]
    },
    {
     "data": {
      "image/svg+xml": [
       "<svg xmlns=\"http://www.w3.org/2000/svg\" xmlns:xlink=\"http://www.w3.org/1999/xlink\" width=\"100.0\" height=\"100.0\" viewBox=\"-0.4 -5.4 10.8 5.800000000000001\" preserveAspectRatio=\"xMinYMin meet\"><g transform=\"matrix(1,0,0,-1,0,-5.0)\"><polyline fill=\"none\" stroke=\"#66cc99\" stroke-width=\"0.21600000000000003\" points=\"0.0,0.0 10.0,0.0 10.0,-5.0\" opacity=\"0.8\" /></g></svg>"
      ],
      "text/plain": [
       "<LINESTRING (0 0, 10 0, 10 -5)>"
      ]
     },
     "execution_count": 4,
     "metadata": {},
     "output_type": "execute_result"
    }
   ],
   "source": [
    "# Printing the LineString Shapely geometry\n",
    "print(line)\n",
    "print(type(line))\n",
    "line"
   ]
  },
  {
   "cell_type": "code",
   "execution_count": 5,
   "id": "c8a0158d-2e9a-4467-83ef-25ed8404c46c",
   "metadata": {},
   "outputs": [
    {
     "name": "stdout",
     "output_type": "stream",
     "text": [
      "POINT (0 0)\n",
      "<class 'shapely.geometry.point.Point'>\n"
     ]
    },
    {
     "data": {
      "image/svg+xml": [
       "<svg xmlns=\"http://www.w3.org/2000/svg\" xmlns:xlink=\"http://www.w3.org/1999/xlink\" width=\"100.0\" height=\"100.0\" viewBox=\"-1.0 -1.0 2.0 2.0\" preserveAspectRatio=\"xMinYMin meet\"><g transform=\"matrix(1,0,0,-1,0,0.0)\"><circle cx=\"0.0\" cy=\"0.0\" r=\"0.06\" stroke=\"#555555\" stroke-width=\"0.02\" fill=\"#66cc99\" opacity=\"0.6\" /></g></svg>"
      ],
      "text/plain": [
       "<POINT (0 0)>"
      ]
     },
     "execution_count": 5,
     "metadata": {},
     "output_type": "execute_result"
    }
   ],
   "source": [
    "# Printing the Point Shapely geometry\n",
    "print(point)\n",
    "print(type(point))\n",
    "point"
   ]
  },
  {
   "cell_type": "markdown",
   "id": "2858db2b-bde2-4748-be24-d0d79685d715",
   "metadata": {},
   "source": [
    "## **03. Creating Shapely Geometry from GeoJSON**\n",
    "The GeoJSON object is represented by a dictionary in Python, containing a \"type\" field and a \"coordinates\" field. The \"type\" field indicates the type of geometry, such as \"Point,\" \"Polygon,\" or \"MultiLineString.\" The \"coordinates\" field holds the coordinates defining the geometry.\n",
    "\n",
    "Shapely supports various GeoJSON geometry types, including Point, LineString, Polygon, MultiPoint, MultiLineString, MultiPolygon, and GeometryCollection."
   ]
  },
  {
   "cell_type": "code",
   "execution_count": 6,
   "id": "1538b9dc-bde2-4db8-a392-5b7396db8bb6",
   "metadata": {},
   "outputs": [],
   "source": [
    "from shapely.geometry import Polygon, LineString, Point"
   ]
  },
  {
   "cell_type": "code",
   "execution_count": 7,
   "id": "08d568d6-713c-4a45-bb61-bc2d73419c47",
   "metadata": {},
   "outputs": [],
   "source": [
    "# Defining GeoJSON to represent a polygon, a line string and a point\n",
    "poly_geojson = {\"type\": \"Polygon\",\n",
    "               \"coordinates\": [[[0, 0],\n",
    "                               [0, -5],\n",
    "                               [10, -5],\n",
    "                               [10, 0],\n",
    "                               [0, 0]]]}\n",
    "line_geojson = {\"type\": \"LineString\",\n",
    "               \"coordinates\": [[[0, 0],\n",
    "                               [10, 0],\n",
    "                               [10, -5]]]}\n",
    "point_geojson = {\"type\": \"Point\",\n",
    "                \"coordinates\": [[0, 0]]}"
   ]
  },
  {
   "cell_type": "code",
   "execution_count": 8,
   "id": "2b6856c5-d5ff-4578-9706-a68e5921410a",
   "metadata": {},
   "outputs": [],
   "source": [
    "# Parsing the GeoJSON to create Shapely geometry objects\n",
    "poly_GJ = Polygon([tuple(i) for i in poly_geojson[\"coordinates\"][0]])\n",
    "line_GJ = LineString([tuple(i) for i in line_geojson[\"coordinates\"][0]])\n",
    "point_GJ = Point(tuple(point_geojson[\"coordinates\"][0]))"
   ]
  },
  {
   "cell_type": "code",
   "execution_count": 9,
   "id": "c3d09eb9-318c-4b2e-a72c-37bae280b672",
   "metadata": {},
   "outputs": [
    {
     "name": "stdout",
     "output_type": "stream",
     "text": [
      "POLYGON ((0 0, 0 -5, 10 -5, 10 0, 0 0))\n",
      "<class 'shapely.geometry.polygon.Polygon'>\n"
     ]
    },
    {
     "data": {
      "image/svg+xml": [
       "<svg xmlns=\"http://www.w3.org/2000/svg\" xmlns:xlink=\"http://www.w3.org/1999/xlink\" width=\"100.0\" height=\"100.0\" viewBox=\"-0.4 -5.4 10.8 5.800000000000001\" preserveAspectRatio=\"xMinYMin meet\"><g transform=\"matrix(1,0,0,-1,0,-5.0)\"><path fill-rule=\"evenodd\" fill=\"#66cc99\" stroke=\"#555555\" stroke-width=\"0.21600000000000003\" opacity=\"0.6\" d=\"M 0.0,0.0 L 0.0,-5.0 L 10.0,-5.0 L 10.0,0.0 L 0.0,0.0 z\" /></g></svg>"
      ],
      "text/plain": [
       "<POLYGON ((0 0, 0 -5, 10 -5, 10 0, 0 0))>"
      ]
     },
     "execution_count": 9,
     "metadata": {},
     "output_type": "execute_result"
    }
   ],
   "source": [
    "# Printing the Polygon Shapely geometry\n",
    "print(poly_GJ)\n",
    "print(type(poly_GJ))\n",
    "poly_GJ"
   ]
  },
  {
   "cell_type": "code",
   "execution_count": 10,
   "id": "84efd243-d0ed-4036-82cb-a1f3664a5cee",
   "metadata": {},
   "outputs": [
    {
     "name": "stdout",
     "output_type": "stream",
     "text": [
      "LINESTRING (0 0, 10 0, 10 -5)\n",
      "<class 'shapely.geometry.linestring.LineString'>\n"
     ]
    },
    {
     "data": {
      "image/svg+xml": [
       "<svg xmlns=\"http://www.w3.org/2000/svg\" xmlns:xlink=\"http://www.w3.org/1999/xlink\" width=\"100.0\" height=\"100.0\" viewBox=\"-0.4 -5.4 10.8 5.800000000000001\" preserveAspectRatio=\"xMinYMin meet\"><g transform=\"matrix(1,0,0,-1,0,-5.0)\"><polyline fill=\"none\" stroke=\"#66cc99\" stroke-width=\"0.21600000000000003\" points=\"0.0,0.0 10.0,0.0 10.0,-5.0\" opacity=\"0.8\" /></g></svg>"
      ],
      "text/plain": [
       "<LINESTRING (0 0, 10 0, 10 -5)>"
      ]
     },
     "execution_count": 10,
     "metadata": {},
     "output_type": "execute_result"
    }
   ],
   "source": [
    "# Printing the Line Shapely geometry\n",
    "print(line_GJ)\n",
    "print(type(line_GJ))\n",
    "line_GJ"
   ]
  },
  {
   "cell_type": "code",
   "execution_count": 11,
   "id": "78ce3c89-7dbb-409c-92db-0a8b45710e03",
   "metadata": {},
   "outputs": [
    {
     "name": "stdout",
     "output_type": "stream",
     "text": [
      "POINT (0 0)\n",
      "<class 'shapely.geometry.point.Point'>\n"
     ]
    },
    {
     "data": {
      "image/svg+xml": [
       "<svg xmlns=\"http://www.w3.org/2000/svg\" xmlns:xlink=\"http://www.w3.org/1999/xlink\" width=\"100.0\" height=\"100.0\" viewBox=\"-1.0 -1.0 2.0 2.0\" preserveAspectRatio=\"xMinYMin meet\"><g transform=\"matrix(1,0,0,-1,0,0.0)\"><circle cx=\"0.0\" cy=\"0.0\" r=\"0.06\" stroke=\"#555555\" stroke-width=\"0.02\" fill=\"#66cc99\" opacity=\"0.6\" /></g></svg>"
      ],
      "text/plain": [
       "<POINT (0 0)>"
      ]
     },
     "execution_count": 11,
     "metadata": {},
     "output_type": "execute_result"
    }
   ],
   "source": [
    "# Printing the Point Shapely geometry\n",
    "print(point_GJ)\n",
    "print(type(point_GJ))\n",
    "point_GJ"
   ]
  },
  {
   "cell_type": "markdown",
   "id": "868a185a-8047-4287-9aa8-c3fa93ee405b",
   "metadata": {
    "tags": []
   },
   "source": [
    "## **04. Creating Shapely Geometry from List of Coordinates**\n",
    "To create a Shapely geometry from a list of coordinates in Python using the Shapely library, you can utilize the appropriate geometry constructor provided by Shapely. The specific constructor you use depends on the type of geometry you want to create, such as Point, LineString, Polygon, etc.\n",
    "\n",
    "By passing the list of coordinates to the Shapely geometry constructor, you can easily create a Shapely geometry object."
   ]
  },
  {
   "cell_type": "code",
   "execution_count": 12,
   "id": "43a52cd1-8d2b-47d1-9f6e-9aeef2b1eb11",
   "metadata": {},
   "outputs": [],
   "source": [
    "# Defining Coordinate lists to represent a polygon, a line string and a point\n",
    "poly_coords = [(0, 0), (0, -5), (10, -5), (10, 0), (0, 0)]\n",
    "line_coords = [(0, 0), (10, 0), (10, -5)]\n",
    "point_coords = [(0, 0)]"
   ]
  },
  {
   "cell_type": "code",
   "execution_count": 13,
   "id": "529e735f-9fcf-4e6c-9945-a20fb37de756",
   "metadata": {},
   "outputs": [],
   "source": [
    "# Parsing the coordinate lists to create Shapely geometry objects\n",
    "poly_list = Polygon(poly_coords)\n",
    "line_list = LineString(line_coords)\n",
    "point_list = Point(point_coords)"
   ]
  },
  {
   "cell_type": "code",
   "execution_count": 14,
   "id": "cc97f9a3-5983-4b9c-b25a-cf55e5ca86c8",
   "metadata": {},
   "outputs": [
    {
     "name": "stdout",
     "output_type": "stream",
     "text": [
      "POLYGON ((0 0, 0 -5, 10 -5, 10 0, 0 0))\n",
      "<class 'shapely.geometry.polygon.Polygon'>\n"
     ]
    },
    {
     "data": {
      "image/svg+xml": [
       "<svg xmlns=\"http://www.w3.org/2000/svg\" xmlns:xlink=\"http://www.w3.org/1999/xlink\" width=\"100.0\" height=\"100.0\" viewBox=\"-0.4 -5.4 10.8 5.800000000000001\" preserveAspectRatio=\"xMinYMin meet\"><g transform=\"matrix(1,0,0,-1,0,-5.0)\"><path fill-rule=\"evenodd\" fill=\"#66cc99\" stroke=\"#555555\" stroke-width=\"0.21600000000000003\" opacity=\"0.6\" d=\"M 0.0,0.0 L 0.0,-5.0 L 10.0,-5.0 L 10.0,0.0 L 0.0,0.0 z\" /></g></svg>"
      ],
      "text/plain": [
       "<POLYGON ((0 0, 0 -5, 10 -5, 10 0, 0 0))>"
      ]
     },
     "execution_count": 14,
     "metadata": {},
     "output_type": "execute_result"
    }
   ],
   "source": [
    "# Printing the Polygon Shapely geometry\n",
    "print(poly_list)\n",
    "print(type(poly_list))\n",
    "poly_list"
   ]
  },
  {
   "cell_type": "code",
   "execution_count": 15,
   "id": "0483fc24-60bd-4969-af94-6f1ffe7d85fe",
   "metadata": {},
   "outputs": [
    {
     "name": "stdout",
     "output_type": "stream",
     "text": [
      "LINESTRING (0 0, 10 0, 10 -5)\n",
      "<class 'shapely.geometry.linestring.LineString'>\n"
     ]
    },
    {
     "data": {
      "image/svg+xml": [
       "<svg xmlns=\"http://www.w3.org/2000/svg\" xmlns:xlink=\"http://www.w3.org/1999/xlink\" width=\"100.0\" height=\"100.0\" viewBox=\"-0.4 -5.4 10.8 5.800000000000001\" preserveAspectRatio=\"xMinYMin meet\"><g transform=\"matrix(1,0,0,-1,0,-5.0)\"><polyline fill=\"none\" stroke=\"#66cc99\" stroke-width=\"0.21600000000000003\" points=\"0.0,0.0 10.0,0.0 10.0,-5.0\" opacity=\"0.8\" /></g></svg>"
      ],
      "text/plain": [
       "<LINESTRING (0 0, 10 0, 10 -5)>"
      ]
     },
     "execution_count": 15,
     "metadata": {},
     "output_type": "execute_result"
    }
   ],
   "source": [
    "# Printing the LineString Shapely geometry\n",
    "print(line_list)\n",
    "print(type(line_list))\n",
    "line_list"
   ]
  },
  {
   "cell_type": "code",
   "execution_count": 16,
   "id": "4021b5de-c63f-4a00-a3cb-e8ee96a82a00",
   "metadata": {},
   "outputs": [
    {
     "name": "stdout",
     "output_type": "stream",
     "text": [
      "POINT (0 0)\n",
      "<class 'shapely.geometry.point.Point'>\n"
     ]
    },
    {
     "data": {
      "image/svg+xml": [
       "<svg xmlns=\"http://www.w3.org/2000/svg\" xmlns:xlink=\"http://www.w3.org/1999/xlink\" width=\"100.0\" height=\"100.0\" viewBox=\"-1.0 -1.0 2.0 2.0\" preserveAspectRatio=\"xMinYMin meet\"><g transform=\"matrix(1,0,0,-1,0,0.0)\"><circle cx=\"0.0\" cy=\"0.0\" r=\"0.06\" stroke=\"#555555\" stroke-width=\"0.02\" fill=\"#66cc99\" opacity=\"0.6\" /></g></svg>"
      ],
      "text/plain": [
       "<POINT (0 0)>"
      ]
     },
     "execution_count": 16,
     "metadata": {},
     "output_type": "execute_result"
    }
   ],
   "source": [
    "# Printing the Point Shapely geometry\n",
    "print(point_list)\n",
    "print(type(point_list))\n",
    "point_list"
   ]
  },
  {
   "cell_type": "markdown",
   "id": "d16b1813-72c4-4a57-b737-3ec7035df2d9",
   "metadata": {},
   "source": [
    "## **05. Creating MultiPolygon, MultiPoint and MultiLineString**"
   ]
  },
  {
   "cell_type": "code",
   "execution_count": 18,
   "id": "095bde09-ff78-4d55-b55c-80b81bf64941",
   "metadata": {},
   "outputs": [],
   "source": [
    "from shapely.geometry import MultiPolygon, MultiPoint, MultiLineString"
   ]
  },
  {
   "cell_type": "markdown",
   "id": "11b8221e-2930-4606-bd85-891cc9dcda79",
   "metadata": {},
   "source": [
    "**MultiPolygon:**<br>\n",
    "A MultiPolygon is a collection of Polygon geometries. Each Polygon represents a closed area defined by a boundary consisting of linear rings. The MultiPolygon can be used to represent complex areas composed of multiple polygons. For instance, a region with multiple islands can be represented as a MultiPolygon."
   ]
  },
  {
   "cell_type": "code",
   "execution_count": 36,
   "id": "677bfe29-e931-4a70-a16e-78fd6f0c83b6",
   "metadata": {},
   "outputs": [
    {
     "name": "stdout",
     "output_type": "stream",
     "text": [
      "MULTIPOLYGON (((0 0, 0 -10, 10 -10, 10 0, 0 0), (3 -2, 6 -8, 8 -2, 3 -2)))\n",
      "<class 'shapely.geometry.multipolygon.MultiPolygon'>\n"
     ]
    },
    {
     "data": {
      "image/svg+xml": [
       "<svg xmlns=\"http://www.w3.org/2000/svg\" xmlns:xlink=\"http://www.w3.org/1999/xlink\" width=\"100.0\" height=\"100.0\" viewBox=\"-0.4 -10.4 10.8 10.8\" preserveAspectRatio=\"xMinYMin meet\"><g transform=\"matrix(1,0,0,-1,0,-10.0)\"><g><path fill-rule=\"evenodd\" fill=\"#66cc99\" stroke=\"#555555\" stroke-width=\"0.21600000000000003\" opacity=\"0.6\" d=\"M 0.0,0.0 L 0.0,-10.0 L 10.0,-10.0 L 10.0,0.0 L 0.0,0.0 z M 3.0,-2.0 L 6.0,-8.0 L 8.0,-2.0 L 3.0,-2.0 z\" /></g></g></svg>"
      ],
      "text/plain": [
       "<MULTIPOLYGON (((0 0, 0 -10, 10 -10, 10 0, 0 0), (3 -2, 6 -8, 8 -2, 3 -2)))>"
      ]
     },
     "execution_count": 36,
     "metadata": {},
     "output_type": "execute_result"
    }
   ],
   "source": [
    "# Creating MultiPolygon from WKT\n",
    "multiPoly_wkt = \"MultiPolygon(((0 0, 0 -10, 10 -10, 10 0, 0 0), (3 -2, 6 -8, 8 -2, 3 -2)))\"\n",
    "multi_poly_wkt = shapely.wkt.loads(multiPoly_wkt)\n",
    "print(multi_poly_wkt)\n",
    "print(type(multi_poly_wkt))\n",
    "multi_poly_wkt"
   ]
  },
  {
   "cell_type": "code",
   "execution_count": 38,
   "id": "6808efa5-153a-43c2-a034-faafcc410d94",
   "metadata": {},
   "outputs": [
    {
     "name": "stdout",
     "output_type": "stream",
     "text": [
      "MULTIPOLYGON (((0 0, 0 -10, 10 -10, 10 0, 0 0)), ((3 -2, 6 -8, 8 -2, 3 -2)))\n",
      "<class 'shapely.geometry.multipolygon.MultiPolygon'>\n"
     ]
    },
    {
     "data": {
      "image/svg+xml": [
       "<svg xmlns=\"http://www.w3.org/2000/svg\" xmlns:xlink=\"http://www.w3.org/1999/xlink\" width=\"100.0\" height=\"100.0\" viewBox=\"-0.4 -10.4 10.8 10.8\" preserveAspectRatio=\"xMinYMin meet\"><g transform=\"matrix(1,0,0,-1,0,-10.0)\"><g><path fill-rule=\"evenodd\" fill=\"#ff3333\" stroke=\"#555555\" stroke-width=\"0.21600000000000003\" opacity=\"0.6\" d=\"M 0.0,0.0 L 0.0,-10.0 L 10.0,-10.0 L 10.0,0.0 L 0.0,0.0 z\" /><path fill-rule=\"evenodd\" fill=\"#ff3333\" stroke=\"#555555\" stroke-width=\"0.21600000000000003\" opacity=\"0.6\" d=\"M 3.0,-2.0 L 6.0,-8.0 L 8.0,-2.0 L 3.0,-2.0 z\" /></g></g></svg>"
      ],
      "text/plain": [
       "<MULTIPOLYGON (((0 0, 0 -10, 10 -10, 10 0, 0 0)), ((3 -2, 6 -8, 8 -2, 3 -2)))>"
      ]
     },
     "execution_count": 38,
     "metadata": {},
     "output_type": "execute_result"
    }
   ],
   "source": [
    "# Creating MultiPolygon from List of Coordinates\n",
    "polygon1 = Polygon([(0, 0), (0, -10), (10, -10), (10, 0), (0, 0)])\n",
    "polygon2 = Polygon([(3, -2), (6, -8), (8, -2), (3, -2)])\n",
    "multiPoly_list = [polygon1, polygon2]\n",
    "multi_poly_list = MultiPolygon(multiPoly_list)\n",
    "print(multi_poly_list)\n",
    "print(type(multi_poly_list))\n",
    "multi_poly_list"
   ]
  },
  {
   "cell_type": "markdown",
   "id": "a918f9bf-840d-4be1-8f4a-e67093116b42",
   "metadata": {},
   "source": [
    "**MultiPoint:** <br>\n",
    "A MultiPoint is a collection of Point geometries. Each Point represents a specific location in the 2D space. The MultiPoint can be used to represent multiple discrete points or a set of spatially related locations."
   ]
  },
  {
   "cell_type": "code",
   "execution_count": 53,
   "id": "002d221d-ec8f-47ca-908f-4e4904cc1814",
   "metadata": {},
   "outputs": [
    {
     "name": "stdout",
     "output_type": "stream",
     "text": [
      "MULTIPOINT (0 0, 5 5, 0 10)\n",
      "<class 'shapely.geometry.multipoint.MultiPoint'>\n"
     ]
    },
    {
     "data": {
      "image/svg+xml": [
       "<svg xmlns=\"http://www.w3.org/2000/svg\" xmlns:xlink=\"http://www.w3.org/1999/xlink\" width=\"100.0\" height=\"100.0\" viewBox=\"-0.4 -0.4 5.800000000000001 10.8\" preserveAspectRatio=\"xMinYMin meet\"><g transform=\"matrix(1,0,0,-1,0,10.0)\"><g><circle cx=\"0.0\" cy=\"0.0\" r=\"0.32400000000000007\" stroke=\"#555555\" stroke-width=\"0.10800000000000001\" fill=\"#66cc99\" opacity=\"0.6\" /><circle cx=\"5.0\" cy=\"5.0\" r=\"0.32400000000000007\" stroke=\"#555555\" stroke-width=\"0.10800000000000001\" fill=\"#66cc99\" opacity=\"0.6\" /><circle cx=\"0.0\" cy=\"10.0\" r=\"0.32400000000000007\" stroke=\"#555555\" stroke-width=\"0.10800000000000001\" fill=\"#66cc99\" opacity=\"0.6\" /></g></g></svg>"
      ],
      "text/plain": [
       "<MULTIPOINT (0 0, 5 5, 0 10)>"
      ]
     },
     "execution_count": 53,
     "metadata": {},
     "output_type": "execute_result"
    }
   ],
   "source": [
    "# Creating MultiPoint from WKT\n",
    "multiPoint_wkt = \"MultiPoint((0 0), (5 5), (0 10))\"\n",
    "multi_point_wkt = shapely.wkt.loads(multiPoint_wkt)\n",
    "print(multi_point_wkt)\n",
    "print(type(multi_point_wkt))\n",
    "multi_point_wkt"
   ]
  },
  {
   "cell_type": "code",
   "execution_count": 55,
   "id": "25c49c52-f111-422b-9246-6849f2ec1cf0",
   "metadata": {},
   "outputs": [
    {
     "name": "stdout",
     "output_type": "stream",
     "text": [
      "MULTIPOINT (0 0, 5 5, 0 10)\n",
      "<class 'shapely.geometry.multipoint.MultiPoint'>\n"
     ]
    },
    {
     "data": {
      "image/svg+xml": [
       "<svg xmlns=\"http://www.w3.org/2000/svg\" xmlns:xlink=\"http://www.w3.org/1999/xlink\" width=\"100.0\" height=\"100.0\" viewBox=\"-0.4 -0.4 5.800000000000001 10.8\" preserveAspectRatio=\"xMinYMin meet\"><g transform=\"matrix(1,0,0,-1,0,10.0)\"><g><circle cx=\"0.0\" cy=\"0.0\" r=\"0.32400000000000007\" stroke=\"#555555\" stroke-width=\"0.10800000000000001\" fill=\"#66cc99\" opacity=\"0.6\" /><circle cx=\"5.0\" cy=\"5.0\" r=\"0.32400000000000007\" stroke=\"#555555\" stroke-width=\"0.10800000000000001\" fill=\"#66cc99\" opacity=\"0.6\" /><circle cx=\"0.0\" cy=\"10.0\" r=\"0.32400000000000007\" stroke=\"#555555\" stroke-width=\"0.10800000000000001\" fill=\"#66cc99\" opacity=\"0.6\" /></g></g></svg>"
      ],
      "text/plain": [
       "<MULTIPOINT (0 0, 5 5, 0 10)>"
      ]
     },
     "execution_count": 55,
     "metadata": {},
     "output_type": "execute_result"
    }
   ],
   "source": [
    "# Creating MultiPoint from List of Coordinates\n",
    "point1 = Point((0, 0))\n",
    "point2 = Point((5, 5))\n",
    "point3 = Point((0, 10))\n",
    "multiPoint_list = [point1, point2, point3]\n",
    "multi_point_list = MultiPoint(multiPoint_list)\n",
    "print(multi_point_list)\n",
    "print(type(multi_point_list))\n",
    "multi_point_list"
   ]
  },
  {
   "cell_type": "markdown",
   "id": "d6118e5d-4407-4f0f-9ea9-c2a85ae31374",
   "metadata": {},
   "source": [
    "**MultiLineString:** <br>\n",
    "A MultiLineString is a collection of LineString geometries. Each LineString represents a sequence of connected line segments. The MultiLineString can be used to represent complex linear features composed of multiple LineString segments. For example, a road network with multiple interconnected road segments can be represented as a MultiLineString."
   ]
  },
  {
   "cell_type": "code",
   "execution_count": 56,
   "id": "7c883e93-d6a7-486d-9be3-d78d4ee93278",
   "metadata": {},
   "outputs": [
    {
     "name": "stdout",
     "output_type": "stream",
     "text": [
      "MULTILINESTRING ((0 0, 5 0, 5 -5), (10 0, 10 5, 15 5))\n",
      "<class 'shapely.geometry.multilinestring.MultiLineString'>\n"
     ]
    },
    {
     "data": {
      "image/svg+xml": [
       "<svg xmlns=\"http://www.w3.org/2000/svg\" xmlns:xlink=\"http://www.w3.org/1999/xlink\" width=\"100.0\" height=\"100.0\" viewBox=\"-0.6 -5.6 16.2 11.2\" preserveAspectRatio=\"xMinYMin meet\"><g transform=\"matrix(1,0,0,-1,0,0.0)\"><g><polyline fill=\"none\" stroke=\"#66cc99\" stroke-width=\"0.324\" points=\"0.0,0.0 5.0,0.0 5.0,-5.0\" opacity=\"0.8\" /><polyline fill=\"none\" stroke=\"#66cc99\" stroke-width=\"0.324\" points=\"10.0,0.0 10.0,5.0 15.0,5.0\" opacity=\"0.8\" /></g></g></svg>"
      ],
      "text/plain": [
       "<MULTILINESTRING ((0 0, 5 0, 5 -5), (10 0, 10 5, 15 5))>"
      ]
     },
     "execution_count": 56,
     "metadata": {},
     "output_type": "execute_result"
    }
   ],
   "source": [
    "# Creating MultiLineString from WKT\n",
    "multiline_wkt = \"MultiLineString((0 0, 5 0, 5 -5), (10 0, 10 5, 15 5))\"\n",
    "multi_line_wkt = shapely.wkt.loads(multiline_wkt)\n",
    "print(multi_line_wkt)\n",
    "print(type(multi_line_wkt))\n",
    "multi_line_wkt"
   ]
  },
  {
   "cell_type": "code",
   "execution_count": 57,
   "id": "6d7e4f74-3b1c-451e-8f7c-12a5750ddabf",
   "metadata": {},
   "outputs": [
    {
     "name": "stdout",
     "output_type": "stream",
     "text": [
      "MULTILINESTRING ((0 0, 5 0, 5 -5), (10 0, 10 5, 15 5))\n",
      "<class 'shapely.geometry.multilinestring.MultiLineString'>\n"
     ]
    },
    {
     "data": {
      "image/svg+xml": [
       "<svg xmlns=\"http://www.w3.org/2000/svg\" xmlns:xlink=\"http://www.w3.org/1999/xlink\" width=\"100.0\" height=\"100.0\" viewBox=\"-0.6 -5.6 16.2 11.2\" preserveAspectRatio=\"xMinYMin meet\"><g transform=\"matrix(1,0,0,-1,0,0.0)\"><g><polyline fill=\"none\" stroke=\"#66cc99\" stroke-width=\"0.324\" points=\"0.0,0.0 5.0,0.0 5.0,-5.0\" opacity=\"0.8\" /><polyline fill=\"none\" stroke=\"#66cc99\" stroke-width=\"0.324\" points=\"10.0,0.0 10.0,5.0 15.0,5.0\" opacity=\"0.8\" /></g></g></svg>"
      ],
      "text/plain": [
       "<MULTILINESTRING ((0 0, 5 0, 5 -5), (10 0, 10 5, 15 5))>"
      ]
     },
     "execution_count": 57,
     "metadata": {},
     "output_type": "execute_result"
    }
   ],
   "source": [
    "# Creating MultiLineString from List of Coordinates\n",
    "line1 = LineString([(0, 0), (5, 0), (5, -5)])\n",
    "line2 = LineString([(10, 0), (10, 5), (15, 5)])\n",
    "multiLine_list = [line1, line2]\n",
    "multi_line_list = MultiLineString(multiLine_list)\n",
    "print(multi_line_list)\n",
    "print(type(multi_line_list))\n",
    "multi_line_list"
   ]
  }
 ],
 "metadata": {
  "kernelspec": {
   "display_name": "Python 3 (ipykernel)",
   "language": "python",
   "name": "python3"
  },
  "language_info": {
   "codemirror_mode": {
    "name": "ipython",
    "version": 3
   },
   "file_extension": ".py",
   "mimetype": "text/x-python",
   "name": "python",
   "nbconvert_exporter": "python",
   "pygments_lexer": "ipython3",
   "version": "3.10.10"
  }
 },
 "nbformat": 4,
 "nbformat_minor": 5
}
