{
 "cells": [
  {
   "attachments": {},
   "cell_type": "markdown",
   "id": "f01f2b58-a3a5-446b-a2aa-df4ae91d0f78",
   "metadata": {},
   "source": [
    "# **ipyLeaflet**\n",
    "ipyleaflet is a Python library that provides interactive mapping capabilities in Jupyter notebooks and JupyterLab. It is built on top of the popular JavaScript mapping library, Leaflet.js. ipyleaflet allows you to create interactive maps, markers, polygons, layers, and other geospatial visualizations directly within the Jupyter environment.\n",
    "\n",
    "With ipyleaflet, you can display maps with various base layers such as OpenStreetMap, Mapbox, and other tile layers. You can add markers and polygons to the map, customize their appearance, and interact with them. The library also supports layers like GeoJSON, WMS (Web Map Service), and Tile layers, allowing you to overlay additional data on the map.\n",
    "\n",
    "One of the key features of ipyleaflet is its interactivity. You can zoom in and out, pan the map, and interact with markers and polygons using mouse events. ipyleaflet also provides widgets that allow you to control and manipulate the map dynamically, such as sliders, checkboxes, and dropdown menus."
   ]
  },
  {
   "attachments": {},
   "cell_type": "markdown",
   "id": "6424bb7a-f57c-4637-a203-cedb9edd0045",
   "metadata": {},
   "source": [
    "## **01. Importing Required Libraries**"
   ]
  },
  {
   "cell_type": "code",
   "execution_count": 98,
   "id": "2333e096-fa92-4d8d-819b-18b91f6f27d3",
   "metadata": {
    "tags": []
   },
   "outputs": [],
   "source": [
    "import os\n",
    "import ipyleaflet\n",
    "import pandas as pd\n",
    "import geopandas as gpd\n",
    "from geopandas.tools import geocode\n",
    "import geopy"
   ]
  },
  {
   "attachments": {},
   "cell_type": "markdown",
   "id": "86e92bf8-b4f6-4138-8d20-0d14c592c457",
   "metadata": {},
   "source": [
    "## **02. Setting Up the Current Working Directory**"
   ]
  },
  {
   "cell_type": "code",
   "execution_count": 99,
   "id": "47410798-b438-4dac-a86e-47eeb64ec953",
   "metadata": {
    "tags": []
   },
   "outputs": [
    {
     "data": {
      "text/plain": [
       "'D:\\\\Coding\\\\Git Repository\\\\Geospatial_Data_Science_with_Python\\\\Datasets\\\\CSVs'"
      ]
     },
     "execution_count": 99,
     "metadata": {},
     "output_type": "execute_result"
    }
   ],
   "source": [
    "# Checking the current working directory\n",
    "os.getcwd()"
   ]
  },
  {
   "cell_type": "code",
   "execution_count": 100,
   "id": "71707c62-e6ac-4243-82f0-c32caf7697a1",
   "metadata": {
    "tags": []
   },
   "outputs": [
    {
     "data": {
      "text/plain": [
       "'D:\\\\Coding\\\\Git Repository\\\\Geospatial_Data_Science_with_Python\\\\Datasets\\\\CSVs'"
      ]
     },
     "execution_count": 100,
     "metadata": {},
     "output_type": "execute_result"
    }
   ],
   "source": [
    "# Changing the current working directory\n",
    "file_path = r\"D:\\Coding\\Git Repository\\Geospatial_Data_Science_with_Python\\Datasets\\CSVs\"\n",
    "os.chdir(file_path)\n",
    "# Checking the current working directory\n",
    "os.getcwd()"
   ]
  },
  {
   "attachments": {},
   "cell_type": "markdown",
   "id": "63c9e2c1-c032-4a0b-8292-3667d0e077fa",
   "metadata": {},
   "source": [
    "## **03. Reading the CSV File with Pandas**"
   ]
  },
  {
   "cell_type": "code",
   "execution_count": 101,
   "id": "140bf790-78a8-499c-b686-178efca0da0d",
   "metadata": {
    "tags": []
   },
   "outputs": [
    {
     "data": {
      "text/html": [
       "<div>\n",
       "<style scoped>\n",
       "    .dataframe tbody tr th:only-of-type {\n",
       "        vertical-align: middle;\n",
       "    }\n",
       "\n",
       "    .dataframe tbody tr th {\n",
       "        vertical-align: top;\n",
       "    }\n",
       "\n",
       "    .dataframe thead th {\n",
       "        text-align: right;\n",
       "    }\n",
       "</style>\n",
       "<table border=\"1\" class=\"dataframe\">\n",
       "  <thead>\n",
       "    <tr style=\"text-align: right;\">\n",
       "      <th></th>\n",
       "      <th>Attraction</th>\n",
       "      <th>Address</th>\n",
       "    </tr>\n",
       "  </thead>\n",
       "  <tbody>\n",
       "    <tr>\n",
       "      <th>0</th>\n",
       "      <td>Victoria Memorial</td>\n",
       "      <td>1, Queen's Way, Maidan, Kolkata, West Bengal 7...</td>\n",
       "    </tr>\n",
       "    <tr>\n",
       "      <th>1</th>\n",
       "      <td>Howrah Bridge</td>\n",
       "      <td>Foreshore Rd, Howrah, West Bengal 711101, India</td>\n",
       "    </tr>\n",
       "    <tr>\n",
       "      <th>2</th>\n",
       "      <td>Indian Museum</td>\n",
       "      <td>27, Jawaharlal Nehru Rd, Colootola, New Market...</td>\n",
       "    </tr>\n",
       "    <tr>\n",
       "      <th>3</th>\n",
       "      <td>Dakshineswar Kali Temple</td>\n",
       "      <td>Dakshineswar, Kolkata, West Bengal 700076, India</td>\n",
       "    </tr>\n",
       "    <tr>\n",
       "      <th>4</th>\n",
       "      <td>Marble Palace</td>\n",
       "      <td>46, Muktaram Babu Street, Jorasanko, Kolkata, ...</td>\n",
       "    </tr>\n",
       "    <tr>\n",
       "      <th>5</th>\n",
       "      <td>Mother House (Missionaries of Charity)</td>\n",
       "      <td>54A, A.J.C. Bose Road, Kolkata, West Bengal 70...</td>\n",
       "    </tr>\n",
       "    <tr>\n",
       "      <th>6</th>\n",
       "      <td>St. Paul's Cathedral</td>\n",
       "      <td>1A, Cathedral Rd, Maidan, Kolkata, West Bengal...</td>\n",
       "    </tr>\n",
       "    <tr>\n",
       "      <th>7</th>\n",
       "      <td>Birla Planetarium</td>\n",
       "      <td>96, Jawaharlal Nehru Rd, Dharmatala, Taltala, ...</td>\n",
       "    </tr>\n",
       "    <tr>\n",
       "      <th>8</th>\n",
       "      <td>College Street</td>\n",
       "      <td>College St, Kolkata, West Bengal 700073, India</td>\n",
       "    </tr>\n",
       "    <tr>\n",
       "      <th>9</th>\n",
       "      <td>Princep Ghat</td>\n",
       "      <td>Prinsep Ghat Rd, Kolkata, West Bengal 700021, ...</td>\n",
       "    </tr>\n",
       "  </tbody>\n",
       "</table>\n",
       "</div>"
      ],
      "text/plain": [
       "                               Attraction  \\\n",
       "0                       Victoria Memorial   \n",
       "1                           Howrah Bridge   \n",
       "2                           Indian Museum   \n",
       "3                Dakshineswar Kali Temple   \n",
       "4                           Marble Palace   \n",
       "5  Mother House (Missionaries of Charity)   \n",
       "6                    St. Paul's Cathedral   \n",
       "7                       Birla Planetarium   \n",
       "8                          College Street   \n",
       "9                            Princep Ghat   \n",
       "\n",
       "                                             Address  \n",
       "0  1, Queen's Way, Maidan, Kolkata, West Bengal 7...  \n",
       "1    Foreshore Rd, Howrah, West Bengal 711101, India  \n",
       "2  27, Jawaharlal Nehru Rd, Colootola, New Market...  \n",
       "3   Dakshineswar, Kolkata, West Bengal 700076, India  \n",
       "4  46, Muktaram Babu Street, Jorasanko, Kolkata, ...  \n",
       "5  54A, A.J.C. Bose Road, Kolkata, West Bengal 70...  \n",
       "6  1A, Cathedral Rd, Maidan, Kolkata, West Bengal...  \n",
       "7  96, Jawaharlal Nehru Rd, Dharmatala, Taltala, ...  \n",
       "8     College St, Kolkata, West Bengal 700073, India  \n",
       "9  Prinsep Ghat Rd, Kolkata, West Bengal 700021, ...  "
      ]
     },
     "execution_count": 101,
     "metadata": {},
     "output_type": "execute_result"
    }
   ],
   "source": [
    "# Reading the Kolkata_City_Attractions.csv using pandas\n",
    "city_attractions = pd.read_csv(\"Kolkata_City_Attractions.csv\")\n",
    "# Checking the rows of the csv\n",
    "city_attractions.head(10)"
   ]
  },
  {
   "attachments": {},
   "cell_type": "markdown",
   "id": "1ac58304-744b-4279-aa76-46ead3b648db",
   "metadata": {},
   "source": [
    "## **04. Geocoding Addresses using Nominatim**"
   ]
  },
  {
   "cell_type": "code",
   "execution_count": 102,
   "id": "cc7ec839-c00f-434b-a367-a6bc1d72e499",
   "metadata": {
    "tags": []
   },
   "outputs": [
    {
     "data": {
      "text/html": [
       "<div>\n",
       "<style scoped>\n",
       "    .dataframe tbody tr th:only-of-type {\n",
       "        vertical-align: middle;\n",
       "    }\n",
       "\n",
       "    .dataframe tbody tr th {\n",
       "        vertical-align: top;\n",
       "    }\n",
       "\n",
       "    .dataframe thead th {\n",
       "        text-align: right;\n",
       "    }\n",
       "</style>\n",
       "<table border=\"1\" class=\"dataframe\">\n",
       "  <thead>\n",
       "    <tr style=\"text-align: right;\">\n",
       "      <th></th>\n",
       "      <th>geometry</th>\n",
       "      <th>address</th>\n",
       "    </tr>\n",
       "  </thead>\n",
       "  <tbody>\n",
       "    <tr>\n",
       "      <th>0</th>\n",
       "      <td>POINT (88.34255 22.54496)</td>\n",
       "      <td>ভিক্টোরিয়া মেমোরিয়াল হল, 1, Queen's Way, Mai...</td>\n",
       "    </tr>\n",
       "    <tr>\n",
       "      <th>1</th>\n",
       "      <td>POINT (88.34394 22.58628)</td>\n",
       "      <td>Lower Foreshore Road, Haora, Howrah, West Beng...</td>\n",
       "    </tr>\n",
       "    <tr>\n",
       "      <th>2</th>\n",
       "      <td>POINT EMPTY</td>\n",
       "      <td>None</td>\n",
       "    </tr>\n",
       "    <tr>\n",
       "      <th>3</th>\n",
       "      <td>POINT (88.35758 22.65483)</td>\n",
       "      <td>Dakshineswar Kali Hindu Temple, Vivekananda Se...</td>\n",
       "    </tr>\n",
       "    <tr>\n",
       "      <th>4</th>\n",
       "      <td>POINT (88.36185 22.58255)</td>\n",
       "      <td>Muktaram Babu Street, Machua Bazar, Kolkata, W...</td>\n",
       "    </tr>\n",
       "    <tr>\n",
       "      <th>5</th>\n",
       "      <td>POINT EMPTY</td>\n",
       "      <td>None</td>\n",
       "    </tr>\n",
       "    <tr>\n",
       "      <th>6</th>\n",
       "      <td>POINT (88.34796 22.54742)</td>\n",
       "      <td>Cathedral Road, Ho Chi Minh Sarani, Kolkata, W...</td>\n",
       "    </tr>\n",
       "    <tr>\n",
       "      <th>7</th>\n",
       "      <td>POINT EMPTY</td>\n",
       "      <td>None</td>\n",
       "    </tr>\n",
       "    <tr>\n",
       "      <th>8</th>\n",
       "      <td>POINT (88.36367 22.57600)</td>\n",
       "      <td>College Street, Tiretta Bazaar, Bow Bazar Nort...</td>\n",
       "    </tr>\n",
       "    <tr>\n",
       "      <th>9</th>\n",
       "      <td>POINT (88.33141 22.55659)</td>\n",
       "      <td>Prinsep Ghat, Strand Road, Hastings, Kolkata, ...</td>\n",
       "    </tr>\n",
       "  </tbody>\n",
       "</table>\n",
       "</div>"
      ],
      "text/plain": [
       "                    geometry  \\\n",
       "0  POINT (88.34255 22.54496)   \n",
       "1  POINT (88.34394 22.58628)   \n",
       "2                POINT EMPTY   \n",
       "3  POINT (88.35758 22.65483)   \n",
       "4  POINT (88.36185 22.58255)   \n",
       "5                POINT EMPTY   \n",
       "6  POINT (88.34796 22.54742)   \n",
       "7                POINT EMPTY   \n",
       "8  POINT (88.36367 22.57600)   \n",
       "9  POINT (88.33141 22.55659)   \n",
       "\n",
       "                                             address  \n",
       "0  ভিক্টোরিয়া মেমোরিয়াল হল, 1, Queen's Way, Mai...  \n",
       "1  Lower Foreshore Road, Haora, Howrah, West Beng...  \n",
       "2                                               None  \n",
       "3  Dakshineswar Kali Hindu Temple, Vivekananda Se...  \n",
       "4  Muktaram Babu Street, Machua Bazar, Kolkata, W...  \n",
       "5                                               None  \n",
       "6  Cathedral Road, Ho Chi Minh Sarani, Kolkata, W...  \n",
       "7                                               None  \n",
       "8  College Street, Tiretta Bazaar, Bow Bazar Nort...  \n",
       "9  Prinsep Ghat, Strand Road, Hastings, Kolkata, ...  "
      ]
     },
     "execution_count": 102,
     "metadata": {},
     "output_type": "execute_result"
    }
   ],
   "source": [
    "# Geocoding the addresses using nominatim\n",
    "kolkata_attractions_gpd = geocode(city_attractions[\"Address\"], provider=\"nominatim\", user_agent=\"nominatim\")\n",
    "# Check the geocoded addresses\n",
    "kolkata_attractions_gpd"
   ]
  },
  {
   "cell_type": "code",
   "execution_count": 103,
   "id": "28160ea5-d194-4626-9d5d-3a222296a7a3",
   "metadata": {
    "tags": []
   },
   "outputs": [
    {
     "data": {
      "text/html": [
       "<div>\n",
       "<style scoped>\n",
       "    .dataframe tbody tr th:only-of-type {\n",
       "        vertical-align: middle;\n",
       "    }\n",
       "\n",
       "    .dataframe tbody tr th {\n",
       "        vertical-align: top;\n",
       "    }\n",
       "\n",
       "    .dataframe thead th {\n",
       "        text-align: right;\n",
       "    }\n",
       "</style>\n",
       "<table border=\"1\" class=\"dataframe\">\n",
       "  <thead>\n",
       "    <tr style=\"text-align: right;\">\n",
       "      <th></th>\n",
       "      <th>geometry</th>\n",
       "      <th>address</th>\n",
       "      <th>Attraction</th>\n",
       "    </tr>\n",
       "  </thead>\n",
       "  <tbody>\n",
       "    <tr>\n",
       "      <th>0</th>\n",
       "      <td>POINT (88.34255 22.54496)</td>\n",
       "      <td>ভিক্টোরিয়া মেমোরিয়াল হল, 1, Queen's Way, Mai...</td>\n",
       "      <td>Victoria Memorial</td>\n",
       "    </tr>\n",
       "    <tr>\n",
       "      <th>1</th>\n",
       "      <td>POINT (88.34394 22.58628)</td>\n",
       "      <td>Lower Foreshore Road, Haora, Howrah, West Beng...</td>\n",
       "      <td>Howrah Bridge</td>\n",
       "    </tr>\n",
       "    <tr>\n",
       "      <th>2</th>\n",
       "      <td>POINT EMPTY</td>\n",
       "      <td>None</td>\n",
       "      <td>Indian Museum</td>\n",
       "    </tr>\n",
       "    <tr>\n",
       "      <th>3</th>\n",
       "      <td>POINT (88.35758 22.65483)</td>\n",
       "      <td>Dakshineswar Kali Hindu Temple, Vivekananda Se...</td>\n",
       "      <td>Dakshineswar Kali Temple</td>\n",
       "    </tr>\n",
       "    <tr>\n",
       "      <th>4</th>\n",
       "      <td>POINT (88.36185 22.58255)</td>\n",
       "      <td>Muktaram Babu Street, Machua Bazar, Kolkata, W...</td>\n",
       "      <td>Marble Palace</td>\n",
       "    </tr>\n",
       "    <tr>\n",
       "      <th>5</th>\n",
       "      <td>POINT EMPTY</td>\n",
       "      <td>None</td>\n",
       "      <td>Mother House (Missionaries of Charity)</td>\n",
       "    </tr>\n",
       "    <tr>\n",
       "      <th>6</th>\n",
       "      <td>POINT (88.34796 22.54742)</td>\n",
       "      <td>Cathedral Road, Ho Chi Minh Sarani, Kolkata, W...</td>\n",
       "      <td>St. Paul's Cathedral</td>\n",
       "    </tr>\n",
       "    <tr>\n",
       "      <th>7</th>\n",
       "      <td>POINT EMPTY</td>\n",
       "      <td>None</td>\n",
       "      <td>Birla Planetarium</td>\n",
       "    </tr>\n",
       "    <tr>\n",
       "      <th>8</th>\n",
       "      <td>POINT (88.36367 22.57600)</td>\n",
       "      <td>College Street, Tiretta Bazaar, Bow Bazar Nort...</td>\n",
       "      <td>College Street</td>\n",
       "    </tr>\n",
       "    <tr>\n",
       "      <th>9</th>\n",
       "      <td>POINT (88.33141 22.55659)</td>\n",
       "      <td>Prinsep Ghat, Strand Road, Hastings, Kolkata, ...</td>\n",
       "      <td>Princep Ghat</td>\n",
       "    </tr>\n",
       "  </tbody>\n",
       "</table>\n",
       "</div>"
      ],
      "text/plain": [
       "                    geometry  \\\n",
       "0  POINT (88.34255 22.54496)   \n",
       "1  POINT (88.34394 22.58628)   \n",
       "2                POINT EMPTY   \n",
       "3  POINT (88.35758 22.65483)   \n",
       "4  POINT (88.36185 22.58255)   \n",
       "5                POINT EMPTY   \n",
       "6  POINT (88.34796 22.54742)   \n",
       "7                POINT EMPTY   \n",
       "8  POINT (88.36367 22.57600)   \n",
       "9  POINT (88.33141 22.55659)   \n",
       "\n",
       "                                             address  \\\n",
       "0  ভিক্টোরিয়া মেমোরিয়াল হল, 1, Queen's Way, Mai...   \n",
       "1  Lower Foreshore Road, Haora, Howrah, West Beng...   \n",
       "2                                               None   \n",
       "3  Dakshineswar Kali Hindu Temple, Vivekananda Se...   \n",
       "4  Muktaram Babu Street, Machua Bazar, Kolkata, W...   \n",
       "5                                               None   \n",
       "6  Cathedral Road, Ho Chi Minh Sarani, Kolkata, W...   \n",
       "7                                               None   \n",
       "8  College Street, Tiretta Bazaar, Bow Bazar Nort...   \n",
       "9  Prinsep Ghat, Strand Road, Hastings, Kolkata, ...   \n",
       "\n",
       "                               Attraction  \n",
       "0                       Victoria Memorial  \n",
       "1                           Howrah Bridge  \n",
       "2                           Indian Museum  \n",
       "3                Dakshineswar Kali Temple  \n",
       "4                           Marble Palace  \n",
       "5  Mother House (Missionaries of Charity)  \n",
       "6                    St. Paul's Cathedral  \n",
       "7                       Birla Planetarium  \n",
       "8                          College Street  \n",
       "9                            Princep Ghat  "
      ]
     },
     "execution_count": 103,
     "metadata": {},
     "output_type": "execute_result"
    }
   ],
   "source": [
    "# Joining the two tables\n",
    "city_attractions_gpd = kolkata_attractions_gpd.join(city_attractions[\"Attraction\"])\n",
    "# Checking the geodataframe\n",
    "city_attractions_gpd"
   ]
  },
  {
   "attachments": {},
   "cell_type": "markdown",
   "id": "7273592f-b298-4216-a8b6-085750c0b513",
   "metadata": {},
   "source": [
    "## **05. Data Cleaning**"
   ]
  },
  {
   "attachments": {},
   "cell_type": "markdown",
   "id": "e593c35a-7e12-4bd4-8ea0-7c774e995e79",
   "metadata": {},
   "source": [
    "**loc:**<br>\n",
    "The loc method in Pandas is used to access and manipulate data based on label-based indexing. It allows you to select specific rows and columns from a DataFrame by specifying the labels of the rows and columns you want to retrieve.\n",
    "\n",
    "The basic syntax for using the loc method is as follows:\n",
    "```python\n",
    "dataframe.loc[row_labels, column_labels]\n",
    "```\n",
    "* **row_labels:** This can be a single label, a list of labels, or a slice object specifying the rows you want to select. The labels can be either the index labels or boolean conditions applied to the index.\n",
    "* **column_labels:** This can be a single label, a list of labels, or a slice object specifying the columns you want to select. The labels can be either the column names or boolean conditions applied to the columns."
   ]
  },
  {
   "cell_type": "code",
   "execution_count": 104,
   "id": "02ea5bd8-9a76-4ada-92fc-90cbcde2f6c9",
   "metadata": {
    "tags": []
   },
   "outputs": [
    {
     "data": {
      "text/html": [
       "<div>\n",
       "<style scoped>\n",
       "    .dataframe tbody tr th:only-of-type {\n",
       "        vertical-align: middle;\n",
       "    }\n",
       "\n",
       "    .dataframe tbody tr th {\n",
       "        vertical-align: top;\n",
       "    }\n",
       "\n",
       "    .dataframe thead th {\n",
       "        text-align: right;\n",
       "    }\n",
       "</style>\n",
       "<table border=\"1\" class=\"dataframe\">\n",
       "  <thead>\n",
       "    <tr style=\"text-align: right;\">\n",
       "      <th></th>\n",
       "      <th>Attraction</th>\n",
       "      <th>address</th>\n",
       "      <th>geometry</th>\n",
       "    </tr>\n",
       "  </thead>\n",
       "  <tbody>\n",
       "    <tr>\n",
       "      <th>0</th>\n",
       "      <td>Victoria Memorial</td>\n",
       "      <td>ভিক্টোরিয়া মেমোরিয়াল হল, 1, Queen's Way, Mai...</td>\n",
       "      <td>POINT (88.34255 22.54496)</td>\n",
       "    </tr>\n",
       "    <tr>\n",
       "      <th>1</th>\n",
       "      <td>Howrah Bridge</td>\n",
       "      <td>Lower Foreshore Road, Haora, Howrah, West Beng...</td>\n",
       "      <td>POINT (88.34394 22.58628)</td>\n",
       "    </tr>\n",
       "    <tr>\n",
       "      <th>2</th>\n",
       "      <td>Indian Museum</td>\n",
       "      <td>None</td>\n",
       "      <td>POINT EMPTY</td>\n",
       "    </tr>\n",
       "    <tr>\n",
       "      <th>3</th>\n",
       "      <td>Dakshineswar Kali Temple</td>\n",
       "      <td>Dakshineswar Kali Hindu Temple, Vivekananda Se...</td>\n",
       "      <td>POINT (88.35758 22.65483)</td>\n",
       "    </tr>\n",
       "    <tr>\n",
       "      <th>4</th>\n",
       "      <td>Marble Palace</td>\n",
       "      <td>Muktaram Babu Street, Machua Bazar, Kolkata, W...</td>\n",
       "      <td>POINT (88.36185 22.58255)</td>\n",
       "    </tr>\n",
       "    <tr>\n",
       "      <th>5</th>\n",
       "      <td>Mother House (Missionaries of Charity)</td>\n",
       "      <td>None</td>\n",
       "      <td>POINT EMPTY</td>\n",
       "    </tr>\n",
       "    <tr>\n",
       "      <th>6</th>\n",
       "      <td>St. Paul's Cathedral</td>\n",
       "      <td>Cathedral Road, Ho Chi Minh Sarani, Kolkata, W...</td>\n",
       "      <td>POINT (88.34796 22.54742)</td>\n",
       "    </tr>\n",
       "    <tr>\n",
       "      <th>7</th>\n",
       "      <td>Birla Planetarium</td>\n",
       "      <td>None</td>\n",
       "      <td>POINT EMPTY</td>\n",
       "    </tr>\n",
       "    <tr>\n",
       "      <th>8</th>\n",
       "      <td>College Street</td>\n",
       "      <td>College Street, Tiretta Bazaar, Bow Bazar Nort...</td>\n",
       "      <td>POINT (88.36367 22.57600)</td>\n",
       "    </tr>\n",
       "    <tr>\n",
       "      <th>9</th>\n",
       "      <td>Princep Ghat</td>\n",
       "      <td>Prinsep Ghat, Strand Road, Hastings, Kolkata, ...</td>\n",
       "      <td>POINT (88.33141 22.55659)</td>\n",
       "    </tr>\n",
       "  </tbody>\n",
       "</table>\n",
       "</div>"
      ],
      "text/plain": [
       "                               Attraction  \\\n",
       "0                       Victoria Memorial   \n",
       "1                           Howrah Bridge   \n",
       "2                           Indian Museum   \n",
       "3                Dakshineswar Kali Temple   \n",
       "4                           Marble Palace   \n",
       "5  Mother House (Missionaries of Charity)   \n",
       "6                    St. Paul's Cathedral   \n",
       "7                       Birla Planetarium   \n",
       "8                          College Street   \n",
       "9                            Princep Ghat   \n",
       "\n",
       "                                             address  \\\n",
       "0  ভিক্টোরিয়া মেমোরিয়াল হল, 1, Queen's Way, Mai...   \n",
       "1  Lower Foreshore Road, Haora, Howrah, West Beng...   \n",
       "2                                               None   \n",
       "3  Dakshineswar Kali Hindu Temple, Vivekananda Se...   \n",
       "4  Muktaram Babu Street, Machua Bazar, Kolkata, W...   \n",
       "5                                               None   \n",
       "6  Cathedral Road, Ho Chi Minh Sarani, Kolkata, W...   \n",
       "7                                               None   \n",
       "8  College Street, Tiretta Bazaar, Bow Bazar Nort...   \n",
       "9  Prinsep Ghat, Strand Road, Hastings, Kolkata, ...   \n",
       "\n",
       "                    geometry  \n",
       "0  POINT (88.34255 22.54496)  \n",
       "1  POINT (88.34394 22.58628)  \n",
       "2                POINT EMPTY  \n",
       "3  POINT (88.35758 22.65483)  \n",
       "4  POINT (88.36185 22.58255)  \n",
       "5                POINT EMPTY  \n",
       "6  POINT (88.34796 22.54742)  \n",
       "7                POINT EMPTY  \n",
       "8  POINT (88.36367 22.57600)  \n",
       "9  POINT (88.33141 22.55659)  "
      ]
     },
     "execution_count": 104,
     "metadata": {},
     "output_type": "execute_result"
    }
   ],
   "source": [
    "# Rearranging the columns of the geodataframe\n",
    "city_attractions_gpd = city_attractions_gpd.loc[:, [\"Attraction\", \"address\", \"geometry\"]]\n",
    "# Checking the geodataframe\n",
    "city_attractions_gpd"
   ]
  },
  {
   "cell_type": "code",
   "execution_count": 105,
   "id": "481ff9b9-12a2-459b-bc4e-62436b2a0527",
   "metadata": {
    "tags": []
   },
   "outputs": [
    {
     "data": {
      "text/html": [
       "<div>\n",
       "<style scoped>\n",
       "    .dataframe tbody tr th:only-of-type {\n",
       "        vertical-align: middle;\n",
       "    }\n",
       "\n",
       "    .dataframe tbody tr th {\n",
       "        vertical-align: top;\n",
       "    }\n",
       "\n",
       "    .dataframe thead th {\n",
       "        text-align: right;\n",
       "    }\n",
       "</style>\n",
       "<table border=\"1\" class=\"dataframe\">\n",
       "  <thead>\n",
       "    <tr style=\"text-align: right;\">\n",
       "      <th></th>\n",
       "      <th>Attraction</th>\n",
       "      <th>address</th>\n",
       "      <th>geometry</th>\n",
       "    </tr>\n",
       "  </thead>\n",
       "  <tbody>\n",
       "    <tr>\n",
       "      <th>0</th>\n",
       "      <td>Victoria Memorial</td>\n",
       "      <td>ভিক্টোরিয়া মেমোরিয়াল হল, 1, Queen's Way, Mai...</td>\n",
       "      <td>POINT (88.34255 22.54496)</td>\n",
       "    </tr>\n",
       "    <tr>\n",
       "      <th>1</th>\n",
       "      <td>Howrah Bridge</td>\n",
       "      <td>Lower Foreshore Road, Haora, Howrah, West Beng...</td>\n",
       "      <td>POINT (88.34394 22.58628)</td>\n",
       "    </tr>\n",
       "    <tr>\n",
       "      <th>2</th>\n",
       "      <td>Dakshineswar Kali Temple</td>\n",
       "      <td>Dakshineswar Kali Hindu Temple, Vivekananda Se...</td>\n",
       "      <td>POINT (88.35758 22.65483)</td>\n",
       "    </tr>\n",
       "    <tr>\n",
       "      <th>3</th>\n",
       "      <td>Marble Palace</td>\n",
       "      <td>Muktaram Babu Street, Machua Bazar, Kolkata, W...</td>\n",
       "      <td>POINT (88.36185 22.58255)</td>\n",
       "    </tr>\n",
       "    <tr>\n",
       "      <th>4</th>\n",
       "      <td>St. Paul's Cathedral</td>\n",
       "      <td>Cathedral Road, Ho Chi Minh Sarani, Kolkata, W...</td>\n",
       "      <td>POINT (88.34796 22.54742)</td>\n",
       "    </tr>\n",
       "    <tr>\n",
       "      <th>5</th>\n",
       "      <td>College Street</td>\n",
       "      <td>College Street, Tiretta Bazaar, Bow Bazar Nort...</td>\n",
       "      <td>POINT (88.36367 22.57600)</td>\n",
       "    </tr>\n",
       "    <tr>\n",
       "      <th>6</th>\n",
       "      <td>Princep Ghat</td>\n",
       "      <td>Prinsep Ghat, Strand Road, Hastings, Kolkata, ...</td>\n",
       "      <td>POINT (88.33141 22.55659)</td>\n",
       "    </tr>\n",
       "  </tbody>\n",
       "</table>\n",
       "</div>"
      ],
      "text/plain": [
       "                 Attraction  \\\n",
       "0         Victoria Memorial   \n",
       "1             Howrah Bridge   \n",
       "2  Dakshineswar Kali Temple   \n",
       "3             Marble Palace   \n",
       "4      St. Paul's Cathedral   \n",
       "5            College Street   \n",
       "6              Princep Ghat   \n",
       "\n",
       "                                             address  \\\n",
       "0  ভিক্টোরিয়া মেমোরিয়াল হল, 1, Queen's Way, Mai...   \n",
       "1  Lower Foreshore Road, Haora, Howrah, West Beng...   \n",
       "2  Dakshineswar Kali Hindu Temple, Vivekananda Se...   \n",
       "3  Muktaram Babu Street, Machua Bazar, Kolkata, W...   \n",
       "4  Cathedral Road, Ho Chi Minh Sarani, Kolkata, W...   \n",
       "5  College Street, Tiretta Bazaar, Bow Bazar Nort...   \n",
       "6  Prinsep Ghat, Strand Road, Hastings, Kolkata, ...   \n",
       "\n",
       "                    geometry  \n",
       "0  POINT (88.34255 22.54496)  \n",
       "1  POINT (88.34394 22.58628)  \n",
       "2  POINT (88.35758 22.65483)  \n",
       "3  POINT (88.36185 22.58255)  \n",
       "4  POINT (88.34796 22.54742)  \n",
       "5  POINT (88.36367 22.57600)  \n",
       "6  POINT (88.33141 22.55659)  "
      ]
     },
     "execution_count": 105,
     "metadata": {},
     "output_type": "execute_result"
    }
   ],
   "source": [
    "# Removing the rows with null geometry\n",
    "city_attractions_gpd.dropna(inplace=True)\n",
    "# Resetting the index\n",
    "city_attractions_gpd.reset_index(inplace=True, drop=True)\n",
    "# Checking the geodataframe\n",
    "city_attractions_gpd"
   ]
  },
  {
   "cell_type": "code",
   "execution_count": 106,
   "id": "10a5a870-f1e3-4456-b89e-4e3ec69b3bd1",
   "metadata": {
    "tags": []
   },
   "outputs": [],
   "source": [
    "# Adding in lat and lon columns\n",
    "city_attractions_gpd[\"lon\"] = city_attractions_gpd[\"geometry\"].x\n",
    "city_attractions_gpd[\"lat\"] = city_attractions_gpd[\"geometry\"].y"
   ]
  },
  {
   "cell_type": "code",
   "execution_count": 107,
   "id": "015d9913-77df-4c8f-9c9f-739425f8144b",
   "metadata": {
    "tags": []
   },
   "outputs": [
    {
     "data": {
      "text/html": [
       "<div>\n",
       "<style scoped>\n",
       "    .dataframe tbody tr th:only-of-type {\n",
       "        vertical-align: middle;\n",
       "    }\n",
       "\n",
       "    .dataframe tbody tr th {\n",
       "        vertical-align: top;\n",
       "    }\n",
       "\n",
       "    .dataframe thead th {\n",
       "        text-align: right;\n",
       "    }\n",
       "</style>\n",
       "<table border=\"1\" class=\"dataframe\">\n",
       "  <thead>\n",
       "    <tr style=\"text-align: right;\">\n",
       "      <th></th>\n",
       "      <th>Attraction</th>\n",
       "      <th>address</th>\n",
       "      <th>geometry</th>\n",
       "      <th>lon</th>\n",
       "      <th>lat</th>\n",
       "    </tr>\n",
       "  </thead>\n",
       "  <tbody>\n",
       "    <tr>\n",
       "      <th>0</th>\n",
       "      <td>Victoria Memorial</td>\n",
       "      <td>ভিক্টোরিয়া মেমোরিয়াল হল, 1, Queen's Way, Mai...</td>\n",
       "      <td>POINT (88.34255 22.54496)</td>\n",
       "      <td>88.342554</td>\n",
       "      <td>22.544956</td>\n",
       "    </tr>\n",
       "    <tr>\n",
       "      <th>1</th>\n",
       "      <td>Howrah Bridge</td>\n",
       "      <td>Lower Foreshore Road, Haora, Howrah, West Beng...</td>\n",
       "      <td>POINT (88.34394 22.58628)</td>\n",
       "      <td>88.343941</td>\n",
       "      <td>22.586281</td>\n",
       "    </tr>\n",
       "    <tr>\n",
       "      <th>2</th>\n",
       "      <td>Dakshineswar Kali Temple</td>\n",
       "      <td>Dakshineswar Kali Hindu Temple, Vivekananda Se...</td>\n",
       "      <td>POINT (88.35758 22.65483)</td>\n",
       "      <td>88.357578</td>\n",
       "      <td>22.654827</td>\n",
       "    </tr>\n",
       "    <tr>\n",
       "      <th>3</th>\n",
       "      <td>Marble Palace</td>\n",
       "      <td>Muktaram Babu Street, Machua Bazar, Kolkata, W...</td>\n",
       "      <td>POINT (88.36185 22.58255)</td>\n",
       "      <td>88.361846</td>\n",
       "      <td>22.582548</td>\n",
       "    </tr>\n",
       "    <tr>\n",
       "      <th>4</th>\n",
       "      <td>St. Paul's Cathedral</td>\n",
       "      <td>Cathedral Road, Ho Chi Minh Sarani, Kolkata, W...</td>\n",
       "      <td>POINT (88.34796 22.54742)</td>\n",
       "      <td>88.347957</td>\n",
       "      <td>22.547419</td>\n",
       "    </tr>\n",
       "    <tr>\n",
       "      <th>5</th>\n",
       "      <td>College Street</td>\n",
       "      <td>College Street, Tiretta Bazaar, Bow Bazar Nort...</td>\n",
       "      <td>POINT (88.36367 22.57600)</td>\n",
       "      <td>88.363673</td>\n",
       "      <td>22.576003</td>\n",
       "    </tr>\n",
       "    <tr>\n",
       "      <th>6</th>\n",
       "      <td>Princep Ghat</td>\n",
       "      <td>Prinsep Ghat, Strand Road, Hastings, Kolkata, ...</td>\n",
       "      <td>POINT (88.33141 22.55659)</td>\n",
       "      <td>88.331407</td>\n",
       "      <td>22.556593</td>\n",
       "    </tr>\n",
       "  </tbody>\n",
       "</table>\n",
       "</div>"
      ],
      "text/plain": [
       "                 Attraction  \\\n",
       "0         Victoria Memorial   \n",
       "1             Howrah Bridge   \n",
       "2  Dakshineswar Kali Temple   \n",
       "3             Marble Palace   \n",
       "4      St. Paul's Cathedral   \n",
       "5            College Street   \n",
       "6              Princep Ghat   \n",
       "\n",
       "                                             address  \\\n",
       "0  ভিক্টোরিয়া মেমোরিয়াল হল, 1, Queen's Way, Mai...   \n",
       "1  Lower Foreshore Road, Haora, Howrah, West Beng...   \n",
       "2  Dakshineswar Kali Hindu Temple, Vivekananda Se...   \n",
       "3  Muktaram Babu Street, Machua Bazar, Kolkata, W...   \n",
       "4  Cathedral Road, Ho Chi Minh Sarani, Kolkata, W...   \n",
       "5  College Street, Tiretta Bazaar, Bow Bazar Nort...   \n",
       "6  Prinsep Ghat, Strand Road, Hastings, Kolkata, ...   \n",
       "\n",
       "                    geometry        lon        lat  \n",
       "0  POINT (88.34255 22.54496)  88.342554  22.544956  \n",
       "1  POINT (88.34394 22.58628)  88.343941  22.586281  \n",
       "2  POINT (88.35758 22.65483)  88.357578  22.654827  \n",
       "3  POINT (88.36185 22.58255)  88.361846  22.582548  \n",
       "4  POINT (88.34796 22.54742)  88.347957  22.547419  \n",
       "5  POINT (88.36367 22.57600)  88.363673  22.576003  \n",
       "6  POINT (88.33141 22.55659)  88.331407  22.556593  "
      ]
     },
     "execution_count": 107,
     "metadata": {},
     "output_type": "execute_result"
    }
   ],
   "source": [
    "# Checking the geodataframe\n",
    "city_attractions_gpd"
   ]
  },
  {
   "attachments": {},
   "cell_type": "markdown",
   "id": "9af75318-d1a3-4249-add2-39179c4b052b",
   "metadata": {},
   "source": [
    "## **06. Create an Interactive Map with ipyLeaflet**"
   ]
  },
  {
   "cell_type": "code",
   "execution_count": 108,
   "id": "ebcc890e-086b-4bdb-a598-4fe8c4c3bfb3",
   "metadata": {
    "tags": []
   },
   "outputs": [],
   "source": [
    "from ipyleaflet import Map, basemaps"
   ]
  },
  {
   "cell_type": "code",
   "execution_count": 109,
   "id": "7f337bf6-356e-47ce-987e-b2c6fe1abe27",
   "metadata": {
    "tags": []
   },
   "outputs": [
    {
     "data": {
      "application/vnd.jupyter.widget-view+json": {
       "model_id": "2cfc86635d714802a16460066306318c",
       "version_major": 2,
       "version_minor": 0
      },
      "text/plain": [
       "Map(center=[22.5726, 88.3639], controls=(ZoomControl(options=['position', 'zoom_in_text', 'zoom_in_title', 'zo…"
      ]
     },
     "metadata": {},
     "output_type": "display_data"
    }
   ],
   "source": [
    "# Creating a map using ipyleaflet\n",
    "city_map = Map(basemap = basemap_to_tiles(basemaps.OpenStreetMap.Mapnik),\n",
    "    \t\t   center=(22.5726, 88.3639), \n",
    "    \t\t   zoom=12\n",
    "               )\n",
    "# Displaying the map\n",
    "city_map"
   ]
  },
  {
   "attachments": {},
   "cell_type": "markdown",
   "id": "ba8ac7a9",
   "metadata": {},
   "source": [
    "**iterrows():**<br>\n",
    "In geopandas, the iterrows() function allows you to iterate over the rows of a GeoDataFrame. It returns an iterator that yields both the index and the row data for each row in the GeoDataFrame."
   ]
  },
  {
   "cell_type": "code",
   "execution_count": 110,
   "id": "3047d396",
   "metadata": {},
   "outputs": [
    {
     "data": {
      "application/vnd.jupyter.widget-view+json": {
       "model_id": "2cfc86635d714802a16460066306318c",
       "version_major": 2,
       "version_minor": 0
      },
      "text/plain": [
       "Map(center=[22.5726, 88.3639], controls=(ZoomControl(options=['position', 'zoom_in_text', 'zoom_in_title', 'zo…"
      ]
     },
     "metadata": {},
     "output_type": "display_data"
    }
   ],
   "source": [
    "# Mapping the attractions\n",
    "from ipyleaflet import Marker\n",
    "for index, row in city_attractions_gpd.iterrows():\n",
    "    marker = Marker(location=[row.loc[\"lat\"], row.loc[\"lon\"]], title=row.loc[\"Attraction\"])\n",
    "    city_map.add_layer(marker)\n",
    "\n",
    "# Displaying the city map after adding marker points\n",
    "city_map"
   ]
  }
 ],
 "metadata": {
  "hide_input": false,
  "kernelspec": {
   "display_name": "Python 3 (ipykernel)",
   "language": "python",
   "name": "python3"
  },
  "language_info": {
   "codemirror_mode": {
    "name": "ipython",
    "version": 3
   },
   "file_extension": ".py",
   "mimetype": "text/x-python",
   "name": "python",
   "nbconvert_exporter": "python",
   "pygments_lexer": "ipython3",
   "version": "3.11.4"
  }
 },
 "nbformat": 4,
 "nbformat_minor": 5
}
