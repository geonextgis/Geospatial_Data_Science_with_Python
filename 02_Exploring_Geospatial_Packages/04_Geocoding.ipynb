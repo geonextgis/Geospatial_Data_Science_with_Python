{
 "cells": [
  {
   "cell_type": "markdown",
   "id": "8f57e070-ff7e-4c9d-b94b-17799556dbbe",
   "metadata": {},
   "source": [
    "# **Geocoding**"
   ]
  },
  {
   "cell_type": "markdown",
   "id": "a5ca563a-9368-43a8-adeb-d7895185b9b1",
   "metadata": {},
   "source": [
    "## **Importing Required Libraries**"
   ]
  },
  {
   "cell_type": "code",
   "execution_count": 4,
   "id": "e09141de-547d-4da3-ac87-6e7dbbbe0a41",
   "metadata": {},
   "outputs": [],
   "source": [
    "import os\n",
    "import pandas as pd\n",
    "import geopandas as gpd\n",
    "import geopy\n",
    "from geopandas.tools import geocode\n",
    "import matplotlib.pyplot as plt\n",
    "import warnings\n",
    "warnings.filterwarnings(\"ignore\")"
   ]
  },
  {
   "cell_type": "markdown",
   "id": "e605f586-c479-4848-9f18-14bc6bb13896",
   "metadata": {},
   "source": [
    "## **Setting Up the Current Working Directory**"
   ]
  },
  {
   "cell_type": "code",
   "execution_count": null,
   "id": "ffd3b806-968c-44cd-8393-bd6fa324e445",
   "metadata": {},
   "outputs": [],
   "source": [
    "# Checking the current working directory\n",
    "os.getcwd()"
   ]
  },
  {
   "cell_type": "code",
   "execution_count": null,
   "id": "9c154334-ede4-4432-8372-42b705ecdcbc",
   "metadata": {},
   "outputs": [],
   "source": [
    "# Changing the current working directory\n",
    "file_path = r\"D:\\Coding\\Git Repository\\Geospatial_Data_Science_with_Python\\Datasets\\CSVs\"\n",
    "os.chdir(file_path)"
   ]
  },
  {
   "cell_type": "code",
   "execution_count": null,
   "id": "af5b8143-407f-4232-9349-597635d84efd",
   "metadata": {},
   "outputs": [],
   "source": [
    "# Checking the current working directory\n",
    "os.getcwd()"
   ]
  },
  {
   "cell_type": "markdown",
   "id": "0bda7f84-19c5-4425-ace2-1a64c5f71f8b",
   "metadata": {},
   "source": [
    "## **Reading the CSV Files using Pandas**"
   ]
  },
  {
   "cell_type": "code",
   "execution_count": null,
   "id": "c28ca9d6-8e85-4ea9-a244-a255990af5fa",
   "metadata": {},
   "outputs": [],
   "source": [
    "# Reading the Kolkata_City_Attractions.csv file using Pandas\n",
    "csv_name = \"\\\\Kolkata_City_Attractions.csv\"\n",
    "cityAttraction = pd.read_csv(file_path + csv_name)"
   ]
  },
  {
   "cell_type": "code",
   "execution_count": null,
   "id": "a1d2b954-c27d-447f-997d-9c70f400668a",
   "metadata": {},
   "outputs": [],
   "source": [
    "# Checking the first 5 rows of the pandas dataframe\n",
    "cityAttraction.head()"
   ]
  },
  {
   "cell_type": "code",
   "execution_count": null,
   "id": "01b21a82-2bee-444a-bc84-10f42b323d25",
   "metadata": {},
   "outputs": [],
   "source": [
    "# Extracting the 'Address' column from the dataframe as a pandas series\n",
    "addresses = cityAttraction[\"Address\"]"
   ]
  },
  {
   "cell_type": "code",
   "execution_count": null,
   "id": "9ef3efe6-244b-474c-84ae-910effcb65e2",
   "metadata": {},
   "outputs": [],
   "source": [
    "# Printing the addresses\n",
    "addresses"
   ]
  },
  {
   "cell_type": "markdown",
   "id": "2afbe9b3-aa7a-4585-98c2-e2f256b9d215",
   "metadata": {},
   "source": [
    "## **Setting Up the API of Mapquest**"
   ]
  },
  {
   "cell_type": "code",
   "execution_count": null,
   "id": "b9a87cd0-51d5-4c75-8589-ef75c855547d",
   "metadata": {},
   "outputs": [],
   "source": [
    "# Defining the API Key\n",
    "api_key = creds.mapquest_api_key\n",
    "# Defining the provider\n",
    "provider = \"openmapquest\""
   ]
  },
  {
   "cell_type": "markdown",
   "id": "408dab28-cb7c-4efd-8722-7a14cfd61735",
   "metadata": {},
   "source": [
    "## **Applying the Geocoding**"
   ]
  }
 ],
 "metadata": {
  "kernelspec": {
   "display_name": "Python 3 (ipykernel)",
   "language": "python",
   "name": "python3"
  },
  "language_info": {
   "codemirror_mode": {
    "name": "ipython",
    "version": 3
   },
   "file_extension": ".py",
   "mimetype": "text/x-python",
   "name": "python",
   "nbconvert_exporter": "python",
   "pygments_lexer": "ipython3",
   "version": "3.10.9"
  }
 },
 "nbformat": 4,
 "nbformat_minor": 5
}
