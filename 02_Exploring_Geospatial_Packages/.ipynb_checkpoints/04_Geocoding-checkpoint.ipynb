{
 "cells": [
  {
   "cell_type": "markdown",
   "id": "8f57e070-ff7e-4c9d-b94b-17799556dbbe",
   "metadata": {},
   "source": [
    "# **Geocoding**"
   ]
  },
  {
   "cell_type": "markdown",
   "id": "a5ca563a-9368-43a8-adeb-d7895185b9b1",
   "metadata": {},
   "source": [
    "## **Importing Required Libraries**"
   ]
  },
  {
   "cell_type": "code",
   "execution_count": 1,
   "id": "08402efc-466b-4de0-b01a-83f0c58824bb",
   "metadata": {},
   "outputs": [],
   "source": [
    "# !pip install geopy"
   ]
  },
  {
   "cell_type": "code",
   "execution_count": 2,
   "id": "76882dae-d735-43a9-ba0b-f96408e8129b",
   "metadata": {},
   "outputs": [
    {
     "name": "stdout",
     "output_type": "stream",
     "text": [
      "Requirement already satisfied: certifi in c:\\users\\krish\\miniconda3\\envs\\geo\\lib\\site-packages (2023.5.7)\n"
     ]
    }
   ],
   "source": [
    "!pip install --upgrade certifi"
   ]
  },
  {
   "cell_type": "code",
   "execution_count": 3,
   "id": "4b89674f-6db0-4008-b2fd-74797fe00805",
   "metadata": {},
   "outputs": [],
   "source": [
    "import ssl\n",
    "ssl._create_default_https_context = ssl._create_default_https_context"
   ]
  },
  {
   "cell_type": "code",
   "execution_count": 4,
   "id": "e09141de-547d-4da3-ac87-6e7dbbbe0a41",
   "metadata": {},
   "outputs": [],
   "source": [
    "import os\n",
    "import pandas as pd\n",
    "import geopandas as gpd\n",
    "import geopy\n",
    "from geopandas.tools import geocode\n",
    "import matplotlib.pyplot as plt\n",
    "import warnings\n",
    "import creds\n",
    "warnings.filterwarnings(\"ignore\")"
   ]
  },
  {
   "cell_type": "markdown",
   "id": "e605f586-c479-4848-9f18-14bc6bb13896",
   "metadata": {},
   "source": [
    "## **Setting Up the Current Working Directory**"
   ]
  },
  {
   "cell_type": "code",
   "execution_count": 5,
   "id": "ffd3b806-968c-44cd-8393-bd6fa324e445",
   "metadata": {},
   "outputs": [
    {
     "data": {
      "text/plain": [
       "'D:\\\\Coding\\\\Git Repository\\\\Geospatial_Data_Science_with_Python\\\\02_Exploring_Geospatial_Packages'"
      ]
     },
     "execution_count": 5,
     "metadata": {},
     "output_type": "execute_result"
    }
   ],
   "source": [
    "# Checking the current working directory\n",
    "os.getcwd()"
   ]
  },
  {
   "cell_type": "code",
   "execution_count": 6,
   "id": "9c154334-ede4-4432-8372-42b705ecdcbc",
   "metadata": {},
   "outputs": [],
   "source": [
    "# Changing the current working directory\n",
    "file_path = r\"D:\\Coding\\Git Repository\\Geospatial_Data_Science_with_Python\\Datasets\\CSVs\"\n",
    "os.chdir(file_path)"
   ]
  },
  {
   "cell_type": "code",
   "execution_count": 7,
   "id": "af5b8143-407f-4232-9349-597635d84efd",
   "metadata": {},
   "outputs": [
    {
     "data": {
      "text/plain": [
       "'D:\\\\Coding\\\\Git Repository\\\\Geospatial_Data_Science_with_Python\\\\Datasets\\\\CSVs'"
      ]
     },
     "execution_count": 7,
     "metadata": {},
     "output_type": "execute_result"
    }
   ],
   "source": [
    "# Checking the current working directory\n",
    "os.getcwd()"
   ]
  },
  {
   "cell_type": "markdown",
   "id": "0bda7f84-19c5-4425-ace2-1a64c5f71f8b",
   "metadata": {},
   "source": [
    "## **Reading the CSV Files using Pandas**"
   ]
  },
  {
   "cell_type": "code",
   "execution_count": 8,
   "id": "c28ca9d6-8e85-4ea9-a244-a255990af5fa",
   "metadata": {},
   "outputs": [],
   "source": [
    "# Reading the Kolkata_City_Attractions.csv file using Pandas\n",
    "csv_name = \"\\\\Kolkata_City_Attractions.csv\"\n",
    "cityAttraction = pd.read_csv(file_path + csv_name)"
   ]
  },
  {
   "cell_type": "code",
   "execution_count": 9,
   "id": "a1d2b954-c27d-447f-997d-9c70f400668a",
   "metadata": {},
   "outputs": [
    {
     "data": {
      "text/html": [
       "<div>\n",
       "<style scoped>\n",
       "    .dataframe tbody tr th:only-of-type {\n",
       "        vertical-align: middle;\n",
       "    }\n",
       "\n",
       "    .dataframe tbody tr th {\n",
       "        vertical-align: top;\n",
       "    }\n",
       "\n",
       "    .dataframe thead th {\n",
       "        text-align: right;\n",
       "    }\n",
       "</style>\n",
       "<table border=\"1\" class=\"dataframe\">\n",
       "  <thead>\n",
       "    <tr style=\"text-align: right;\">\n",
       "      <th></th>\n",
       "      <th>Attraction</th>\n",
       "      <th>Address</th>\n",
       "    </tr>\n",
       "  </thead>\n",
       "  <tbody>\n",
       "    <tr>\n",
       "      <th>0</th>\n",
       "      <td>Victoria Memorial</td>\n",
       "      <td>1, Queen's Way, Maidan, Kolkata, West Bengal 7...</td>\n",
       "    </tr>\n",
       "    <tr>\n",
       "      <th>1</th>\n",
       "      <td>Howrah Bridge</td>\n",
       "      <td>Foreshore Rd, Howrah, West Bengal 711101, India</td>\n",
       "    </tr>\n",
       "    <tr>\n",
       "      <th>2</th>\n",
       "      <td>Indian Museum</td>\n",
       "      <td>27, Jawaharlal Nehru Rd, Colootola, New Market...</td>\n",
       "    </tr>\n",
       "    <tr>\n",
       "      <th>3</th>\n",
       "      <td>Dakshineswar Kali Temple</td>\n",
       "      <td>Dakshineswar, Kolkata, West Bengal 700076, India</td>\n",
       "    </tr>\n",
       "    <tr>\n",
       "      <th>4</th>\n",
       "      <td>Marble Palace</td>\n",
       "      <td>46, Muktaram Babu Street, Jorasanko, Kolkata, ...</td>\n",
       "    </tr>\n",
       "  </tbody>\n",
       "</table>\n",
       "</div>"
      ],
      "text/plain": [
       "                 Attraction                                            Address\n",
       "0         Victoria Memorial  1, Queen's Way, Maidan, Kolkata, West Bengal 7...\n",
       "1             Howrah Bridge    Foreshore Rd, Howrah, West Bengal 711101, India\n",
       "2             Indian Museum  27, Jawaharlal Nehru Rd, Colootola, New Market...\n",
       "3  Dakshineswar Kali Temple   Dakshineswar, Kolkata, West Bengal 700076, India\n",
       "4             Marble Palace  46, Muktaram Babu Street, Jorasanko, Kolkata, ..."
      ]
     },
     "execution_count": 9,
     "metadata": {},
     "output_type": "execute_result"
    }
   ],
   "source": [
    "# Checking the first 5 rows of the pandas dataframe\n",
    "cityAttraction.head()"
   ]
  },
  {
   "cell_type": "code",
   "execution_count": 10,
   "id": "01b21a82-2bee-444a-bc84-10f42b323d25",
   "metadata": {},
   "outputs": [],
   "source": [
    "# Extracting the 'Address' column from the dataframe as a pandas series\n",
    "addresses = cityAttraction[\"Address\"]"
   ]
  },
  {
   "cell_type": "code",
   "execution_count": 11,
   "id": "9ef3efe6-244b-474c-84ae-910effcb65e2",
   "metadata": {},
   "outputs": [
    {
     "data": {
      "text/plain": [
       "0    1, Queen's Way, Maidan, Kolkata, West Bengal 7...\n",
       "1      Foreshore Rd, Howrah, West Bengal 711101, India\n",
       "2    27, Jawaharlal Nehru Rd, Colootola, New Market...\n",
       "3     Dakshineswar, Kolkata, West Bengal 700076, India\n",
       "4    46, Muktaram Babu Street, Jorasanko, Kolkata, ...\n",
       "5    54A, A.J.C. Bose Road, Kolkata, West Bengal 70...\n",
       "6    1A, Cathedral Rd, Maidan, Kolkata, West Bengal...\n",
       "7    96, Jawaharlal Nehru Rd, Dharmatala, Taltala, ...\n",
       "8       College St, Kolkata, West Bengal 700073, India\n",
       "9    Prinsep Ghat Rd, Kolkata, West Bengal 700021, ...\n",
       "Name: Address, dtype: object"
      ]
     },
     "execution_count": 11,
     "metadata": {},
     "output_type": "execute_result"
    }
   ],
   "source": [
    "# Printing the addresses\n",
    "addresses"
   ]
  },
  {
   "cell_type": "markdown",
   "id": "2afbe9b3-aa7a-4585-98c2-e2f256b9d215",
   "metadata": {},
   "source": [
    "## **Setting Up the API of Mapquest**"
   ]
  },
  {
   "cell_type": "code",
   "execution_count": 12,
   "id": "b9a87cd0-51d5-4c75-8589-ef75c855547d",
   "metadata": {},
   "outputs": [],
   "source": [
    "# Defining the API Key\n",
    "api_key = creds.mapquest_api_key\n",
    "# Defining the provider\n",
    "provider = \"openmapquest\""
   ]
  },
  {
   "cell_type": "markdown",
   "id": "408dab28-cb7c-4efd-8722-7a14cfd61735",
   "metadata": {},
   "source": [
    "## **Applying the Geocoding**"
   ]
  }
 ],
 "metadata": {
  "kernelspec": {
   "display_name": "Python 3 (ipykernel)",
   "language": "python",
   "name": "python3"
  },
  "language_info": {
   "codemirror_mode": {
    "name": "ipython",
    "version": 3
   },
   "file_extension": ".py",
   "mimetype": "text/x-python",
   "name": "python",
   "nbconvert_exporter": "python",
   "pygments_lexer": "ipython3",
   "version": "3.10.10"
  }
 },
 "nbformat": 4,
 "nbformat_minor": 5
}
