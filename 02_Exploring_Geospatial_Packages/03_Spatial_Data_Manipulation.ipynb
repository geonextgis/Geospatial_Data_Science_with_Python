{
 "cells": [
  {
   "cell_type": "markdown",
   "id": "f9c28e72-ebf3-4a0d-afff-ed2b4f0e13c9",
   "metadata": {},
   "source": [
    "# **Spatial Data Manipulations**"
   ]
  },
  {
   "cell_type": "markdown",
   "id": "8bfdce97-79e2-433b-b97d-daa7512f5217",
   "metadata": {},
   "source": [
    "## **Importing the Required Libraries**"
   ]
  },
  {
   "cell_type": "code",
   "execution_count": 3,
   "id": "d67422b5-437f-43eb-a7e0-55a0bd8863dd",
   "metadata": {},
   "outputs": [],
   "source": [
    "import os\n",
    "import geopandas as gpd\n",
    "import matplotlib.pyplot as plt\n",
    "import warnings\n",
    "warnings.filterwarnings(\"ignore\")"
   ]
  },
  {
   "cell_type": "markdown",
   "id": "eb4a4db0-1a24-440f-8f7e-d1923ae24c28",
   "metadata": {},
   "source": [
    "## **Setting Up the Working Directory**"
   ]
  },
  {
   "cell_type": "code",
   "execution_count": 5,
   "id": "0cdab4d5-fa85-4439-9d66-c2190256fdb3",
   "metadata": {},
   "outputs": [
    {
     "data": {
      "text/plain": [
       "'D:\\\\Coding\\\\Git Repository\\\\Geospatial_Data_Science_with_Python\\\\02_Exploring_Geospatial_Packages'"
      ]
     },
     "execution_count": 5,
     "metadata": {},
     "output_type": "execute_result"
    }
   ],
   "source": [
    "# Checking the Current Working Directory\n",
    "os.getcwd()"
   ]
  },
  {
   "cell_type": "code",
   "execution_count": 6,
   "id": "d07f30df-09d4-44ac-b9a7-ca6518668d00",
   "metadata": {},
   "outputs": [],
   "source": [
    "# Changing the Current Working Directory\n",
    "file_path = r\"D:\\Coding\\Git Repository\\Geospatial_Data_Science_with_Python\\Datasets\\Shapafiles\"\n",
    "os.chdir(file_path)"
   ]
  },
  {
   "cell_type": "code",
   "execution_count": 7,
   "id": "48254096-c3e2-4255-8ace-5170c1da80db",
   "metadata": {},
   "outputs": [
    {
     "data": {
      "text/plain": [
       "'D:\\\\Coding\\\\Git Repository\\\\Geospatial_Data_Science_with_Python\\\\Datasets\\\\Shapafiles'"
      ]
     },
     "execution_count": 7,
     "metadata": {},
     "output_type": "execute_result"
    }
   ],
   "source": [
    "# Checking the Current Working Directory\n",
    "os.getcwd()"
   ]
  },
  {
   "cell_type": "markdown",
   "id": "751e2ff0-fea1-40c2-9793-570c75af0222",
   "metadata": {},
   "source": [
    "## **Reading Spatial Data with GeoPandas**"
   ]
  },
  {
   "cell_type": "code",
   "execution_count": null,
   "id": "d7fef774-758c-4e9e-a229-25c1261e2cbe",
   "metadata": {},
   "outputs": [],
   "source": [
    "# Reading the natural earth "
   ]
  }
 ],
 "metadata": {
  "kernelspec": {
   "display_name": "Python 3 (ipykernel)",
   "language": "python",
   "name": "python3"
  },
  "language_info": {
   "codemirror_mode": {
    "name": "ipython",
    "version": 3
   },
   "file_extension": ".py",
   "mimetype": "text/x-python",
   "name": "python",
   "nbconvert_exporter": "python",
   "pygments_lexer": "ipython3",
   "version": "3.10.10"
  }
 },
 "nbformat": 4,
 "nbformat_minor": 5
}
