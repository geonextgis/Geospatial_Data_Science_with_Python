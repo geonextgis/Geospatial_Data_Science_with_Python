{
  "cells": [
    {
      "cell_type": "markdown",
      "metadata": {
        "id": "view-in-github",
        "colab_type": "text"
      },
      "source": [
        "<a href=\"https://colab.research.google.com/github/geonextgis/Geospatial_Data_Science_with_Python/blob/main/03_Exploratory_Spatial_Data_Analysis/01_Exploratory_Data_Visualization_New.ipynb\" target=\"_parent\"><img src=\"https://colab.research.google.com/assets/colab-badge.svg\" alt=\"Open In Colab\"/></a>"
      ]
    },
    {
      "cell_type": "markdown",
      "id": "3f6a2877-418a-4a2c-972f-f1ec75ee6c3a",
      "metadata": {
        "id": "3f6a2877-418a-4a2c-972f-f1ec75ee6c3a"
      },
      "source": [
        "## **Import Required Libraries**"
      ]
    },
    {
      "cell_type": "code",
      "execution_count": 3,
      "id": "aadbcb41-af70-4c2f-b26d-ec7c9fb85a64",
      "metadata": {
        "tags": [],
        "id": "aadbcb41-af70-4c2f-b26d-ec7c9fb85a64"
      },
      "outputs": [],
      "source": [
        "import os\n",
        "import pandas as pd\n",
        "import geopandas as gpd\n",
        "import matplotlib.pyplot as plt"
      ]
    },
    {
      "cell_type": "markdown",
      "id": "93932515-e362-4064-83b0-ce88b1f483fc",
      "metadata": {
        "id": "93932515-e362-4064-83b0-ce88b1f483fc"
      },
      "source": [
        "## **Setting Up the Current Working Directory**"
      ]
    },
    {
      "cell_type": "code",
      "execution_count": 4,
      "id": "dd856abc-ecb4-4658-b7cb-1294b936d531",
      "metadata": {
        "tags": [],
        "colab": {
          "base_uri": "https://localhost:8080/",
          "height": 35
        },
        "id": "dd856abc-ecb4-4658-b7cb-1294b936d531",
        "outputId": "6327c6dc-da11-493f-8342-9b23851e8f83"
      },
      "outputs": [
        {
          "output_type": "execute_result",
          "data": {
            "text/plain": [
              "'/content'"
            ],
            "application/vnd.google.colaboratory.intrinsic+json": {
              "type": "string"
            }
          },
          "metadata": {},
          "execution_count": 4
        }
      ],
      "source": [
        "# Checking the current working directory\n",
        "os.getcwd()"
      ]
    },
    {
      "cell_type": "code",
      "execution_count": 5,
      "id": "c6c4708c-7f61-4327-a360-3916ca295b71",
      "metadata": {
        "tags": [],
        "colab": {
          "base_uri": "https://localhost:8080/",
          "height": 253
        },
        "id": "c6c4708c-7f61-4327-a360-3916ca295b71",
        "outputId": "a7e02449-5c0f-4d3c-f4c2-f4b58007f0e2"
      },
      "outputs": [
        {
          "output_type": "error",
          "ename": "FileNotFoundError",
          "evalue": "ignored",
          "traceback": [
            "\u001b[0;31m---------------------------------------------------------------------------\u001b[0m",
            "\u001b[0;31mFileNotFoundError\u001b[0m                         Traceback (most recent call last)",
            "\u001b[0;32m<ipython-input-5-2cf7149c9d2d>\u001b[0m in \u001b[0;36m<cell line: 3>\u001b[0;34m()\u001b[0m\n\u001b[1;32m      1\u001b[0m \u001b[0;31m# Changing the current working directory\u001b[0m\u001b[0;34m\u001b[0m\u001b[0;34m\u001b[0m\u001b[0m\n\u001b[1;32m      2\u001b[0m \u001b[0mfile_path\u001b[0m \u001b[0;34m=\u001b[0m \u001b[0;34mr\"D:\\Coding\\Git Repository\\Geospatial_Data_Science_with_Python\\Datasets\"\u001b[0m\u001b[0;34m\u001b[0m\u001b[0;34m\u001b[0m\u001b[0m\n\u001b[0;32m----> 3\u001b[0;31m \u001b[0mos\u001b[0m\u001b[0;34m.\u001b[0m\u001b[0mchdir\u001b[0m\u001b[0;34m(\u001b[0m\u001b[0mfile_path\u001b[0m\u001b[0;34m)\u001b[0m\u001b[0;34m\u001b[0m\u001b[0;34m\u001b[0m\u001b[0m\n\u001b[0m\u001b[1;32m      4\u001b[0m \u001b[0mcsv_path\u001b[0m \u001b[0;34m=\u001b[0m \u001b[0mfile_path\u001b[0m \u001b[0;34m+\u001b[0m \u001b[0;34m\"\\\\CSVs\"\u001b[0m\u001b[0;34m\u001b[0m\u001b[0;34m\u001b[0m\u001b[0m\n\u001b[1;32m      5\u001b[0m \u001b[0mshp_path\u001b[0m \u001b[0;34m=\u001b[0m \u001b[0mfile_path\u001b[0m \u001b[0;34m+\u001b[0m \u001b[0;34m\"\\\\Shapafiles\"\u001b[0m\u001b[0;34m\u001b[0m\u001b[0;34m\u001b[0m\u001b[0m\n",
            "\u001b[0;31mFileNotFoundError\u001b[0m: [Errno 2] No such file or directory: 'D:\\\\Coding\\\\Git Repository\\\\Geospatial_Data_Science_with_Python\\\\Datasets'"
          ]
        }
      ],
      "source": [
        "# Changing the current working directory\n",
        "file_path = r\"D:\\Coding\\Git Repository\\Geospatial_Data_Science_with_Python\\Datasets\"\n",
        "os.chdir(file_path)\n",
        "csv_path = file_path + \"\\\\CSVs\"\n",
        "shp_path = file_path + \"\\\\Shapafiles\""
      ]
    },
    {
      "cell_type": "code",
      "execution_count": null,
      "id": "42d2abfb-a770-4f08-8801-59904e86c8b0",
      "metadata": {
        "tags": [],
        "id": "42d2abfb-a770-4f08-8801-59904e86c8b0"
      },
      "outputs": [],
      "source": [
        "# Checking the new current working directory\n",
        "os.getcwd()"
      ]
    },
    {
      "cell_type": "markdown",
      "id": "47e61520-6543-425e-b3c0-8b85db7f98a3",
      "metadata": {
        "id": "47e61520-6543-425e-b3c0-8b85db7f98a3"
      },
      "source": [
        "## **Reading the Data**"
      ]
    },
    {
      "cell_type": "markdown",
      "id": "042438c8-d19b-4d34-a997-44ff2c33ad1a",
      "metadata": {
        "id": "042438c8-d19b-4d34-a997-44ff2c33ad1a"
      },
      "source": [
        "**Dataset Description:**<br>\n",
        "This is the dataset used in the second chapter of Aurélien Géron's recent book 'Hands-On Machine learning with Scikit-Learn and TensorFlow'. It serves as an excellent introduction to implementing machine learning algorithms because it requires rudimentary data cleaning, has an easily understandable list of variables and sits at an optimal size between being to toyish and too cumbersome.\n",
        "\n",
        "The data contains information from the 1990 California census. So although it may not help you with predicting current housing prices like the Zillow Zestimate dataset, it does provide an accessible introductory dataset for teaching people about the basics of machine learning.\n",
        "\n",
        "**Content:**<br>\n",
        "1. longitude: A measure of how far west a house is; a higher value is farther west\n",
        "2. latitude: A measure of how far north a house is; a higher value is farther north\n",
        "3. housingMedianAge: Median age of a house within a block; a lower number is a newer building\n",
        "4. totalRooms: Total number of rooms within a block\n",
        "5. totalBedrooms: Total number of bedrooms within a block\n",
        "6. population: Total number of people residing within a block\n",
        "7. households: Total number of households, a group of people residing within a home unit, for a block\n",
        "8. medianIncome: Median income for households within a block of houses (measured in tens of thousands of US Dollars)\n",
        "9. medianHouseValue: Median house value for households within a block (measured in US Dollars)\n",
        "10. oceanProximity: Location of the house w.r.t ocean/sea"
      ]
    },
    {
      "cell_type": "code",
      "execution_count": null,
      "id": "d59788f1-b379-4ebf-9cc5-ae0613075aef",
      "metadata": {
        "tags": [],
        "id": "d59788f1-b379-4ebf-9cc5-ae0613075aef"
      },
      "outputs": [],
      "source": [
        "# Reading the housing.csv data with pandas\n",
        "housing = pd.read_csv(csv_path + \"\\\\housing.csv\")\n",
        "# Checking the name of the columns\n",
        "housing.columns"
      ]
    },
    {
      "cell_type": "code",
      "execution_count": null,
      "id": "47408497-1f0a-4f5f-84fa-5c7d80d3dd7b",
      "metadata": {
        "tags": [],
        "id": "47408497-1f0a-4f5f-84fa-5c7d80d3dd7b"
      },
      "outputs": [],
      "source": [
        "# Checking the first 5 rows of the data\n",
        "housing.head()"
      ]
    },
    {
      "cell_type": "code",
      "execution_count": null,
      "id": "72f46b03-57b0-4728-9695-c293da1130a9",
      "metadata": {
        "tags": [],
        "id": "72f46b03-57b0-4728-9695-c293da1130a9"
      },
      "outputs": [],
      "source": [
        "# Checking the shape of the dataframe\n",
        "housing.shape"
      ]
    },
    {
      "cell_type": "markdown",
      "id": "595fbf5b-d475-4ae6-969e-7e5887d4d948",
      "metadata": {
        "id": "595fbf5b-d475-4ae6-969e-7e5887d4d948"
      },
      "source": [
        "## **Conducting Exploratory Data Analysis (EDA)**"
      ]
    },
    {
      "cell_type": "code",
      "execution_count": null,
      "id": "2aecb709-ee80-4fb9-a719-c5dc66ca0c9f",
      "metadata": {
        "tags": [],
        "id": "2aecb709-ee80-4fb9-a719-c5dc66ca0c9f"
      },
      "outputs": [],
      "source": [
        "# Checking the non-null values in each column\n",
        "housing.info()"
      ]
    },
    {
      "cell_type": "code",
      "execution_count": null,
      "id": "662b542c-442b-4ea2-b5b8-93d4137fa39c",
      "metadata": {
        "tags": [],
        "id": "662b542c-442b-4ea2-b5b8-93d4137fa39c"
      },
      "outputs": [],
      "source": [
        "# Cleaning the data\n",
        "housing.dropna(inplace=True)"
      ]
    },
    {
      "cell_type": "code",
      "execution_count": null,
      "id": "5f4e1603-ba13-41cd-8e32-e251d85c4aa9",
      "metadata": {
        "tags": [],
        "id": "5f4e1603-ba13-41cd-8e32-e251d85c4aa9"
      },
      "outputs": [],
      "source": [
        "# Checking the shape of the dataframe\n",
        "housing.shape"
      ]
    },
    {
      "cell_type": "code",
      "execution_count": null,
      "id": "05aa750a-f4f4-4b27-bc13-e5b40f7a7978",
      "metadata": {
        "tags": [],
        "id": "05aa750a-f4f4-4b27-bc13-e5b40f7a7978"
      },
      "outputs": [],
      "source": [
        "# Checking the value counts of the ocean_proximity column\n",
        "housing[\"ocean_proximity\"].value_counts()"
      ]
    },
    {
      "cell_type": "code",
      "execution_count": null,
      "id": "83405f2a-ba48-4f4d-9a2e-421c4b6f8ed1",
      "metadata": {
        "tags": [],
        "id": "83405f2a-ba48-4f4d-9a2e-421c4b6f8ed1"
      },
      "outputs": [],
      "source": [
        "# Definining a dictionary to encode the values of ocean_proximity column from string to int\n",
        "ocean_proximity_dict = {\"ISLAND\": 0, \"NEAR BAY\": 1, \"NEAR OCEAN\": 2, \"INLAND\": 3, \"<1H OCEAN\": 4}\n",
        "# Encoding the ocean_proximity column\n",
        "encoded_ocean_proximity = housing[\"ocean_proximity\"].replace(ocean_proximity_dict)"
      ]
    },
    {
      "cell_type": "code",
      "execution_count": null,
      "id": "d9bed6b6-f386-44e1-9231-df121d7c6cb6",
      "metadata": {
        "tags": [],
        "id": "d9bed6b6-f386-44e1-9231-df121d7c6cb6"
      },
      "outputs": [],
      "source": [
        "# Creating a copy of housing dataframe\n",
        "housing_copy = housing.copy()"
      ]
    },
    {
      "cell_type": "code",
      "execution_count": null,
      "id": "fb4811c5-bdff-48cb-b811-be4900712506",
      "metadata": {
        "tags": [],
        "id": "fb4811c5-bdff-48cb-b811-be4900712506"
      },
      "outputs": [],
      "source": [
        "# Setting the encoded values of ocean_proximity column\n",
        "housing_copy[\"ocean_proximity\"] = encoded_ocean_proximity\n",
        "# Checking the first 5 rows of the new housing_copy dataframe\n",
        "housing_copy.head()"
      ]
    },
    {
      "cell_type": "code",
      "execution_count": null,
      "id": "abdac76c-e35e-48ea-bbf3-1932bfd876cf",
      "metadata": {
        "tags": [],
        "id": "abdac76c-e35e-48ea-bbf3-1932bfd876cf"
      },
      "outputs": [],
      "source": [
        "# Checking the non-null values in each column of the new housing_copy dataframe\n",
        "housing_copy.info()"
      ]
    },
    {
      "cell_type": "code",
      "execution_count": null,
      "id": "0aa280c4-a592-4e5b-a7ee-c54577ccb960",
      "metadata": {
        "tags": [],
        "id": "0aa280c4-a592-4e5b-a7ee-c54577ccb960"
      },
      "outputs": [],
      "source": [
        "# Dropping the rows with null values\n",
        "housing_copy.dropna(inplace=True)\n",
        "# Resetting the index\n",
        "housing_copy.reset_index(inplace=True, drop=True)"
      ]
    },
    {
      "cell_type": "code",
      "execution_count": null,
      "id": "6d3a839d-a18a-43ab-9596-c0ccb1c62cea",
      "metadata": {
        "tags": [],
        "id": "6d3a839d-a18a-43ab-9596-c0ccb1c62cea"
      },
      "outputs": [],
      "source": [
        "# Checking the final dataframe\n",
        "housing_copy.head()"
      ]
    },
    {
      "cell_type": "code",
      "execution_count": null,
      "id": "45fe9bf6-31bf-4ed2-b654-62a54adbcf55",
      "metadata": {
        "tags": [],
        "id": "45fe9bf6-31bf-4ed2-b654-62a54adbcf55"
      },
      "outputs": [],
      "source": [
        "# Checking the dataframe information\n",
        "housing_copy.info()"
      ]
    },
    {
      "cell_type": "code",
      "execution_count": null,
      "id": "1ae3880b-07c0-4217-8dc7-1c5bc5c4ce89",
      "metadata": {
        "tags": [],
        "id": "1ae3880b-07c0-4217-8dc7-1c5bc5c4ce89"
      },
      "outputs": [],
      "source": [
        "# Describing the dataframe\n",
        "housing_copy.describe()"
      ]
    },
    {
      "cell_type": "code",
      "execution_count": null,
      "id": "7275c479-f6d2-44f3-87e9-41fa7945d98c",
      "metadata": {
        "tags": [],
        "id": "7275c479-f6d2-44f3-87e9-41fa7945d98c"
      },
      "outputs": [],
      "source": [
        "# Create a visual representation of the data\n",
        "housing_copy.hist(bins=50, figsize=(20, 18))"
      ]
    },
    {
      "cell_type": "markdown",
      "id": "929d8eba-d636-463e-b371-ee3fc7fa21a6",
      "metadata": {
        "id": "929d8eba-d636-463e-b371-ee3fc7fa21a6"
      },
      "source": [
        "## **Exploratory Spatial Data Analysis (ESDA)**"
      ]
    },
    {
      "cell_type": "code",
      "execution_count": null,
      "id": "60300311-8440-43b1-aff5-72f03a90c9ec",
      "metadata": {
        "tags": [],
        "id": "60300311-8440-43b1-aff5-72f03a90c9ec"
      },
      "outputs": [],
      "source": [
        "# Converting the pandas dataframe to a geopandas dataframe\n",
        "housing_gdf = gpd.GeoDataFrame(housing_copy, geometry=gpd.points_from_xy(housing_copy.longitude, housing_copy.latitude, crs=4326))"
      ]
    },
    {
      "cell_type": "code",
      "execution_count": null,
      "id": "d0ddd69a-7f7d-4a82-a0eb-e53e1401bdf4",
      "metadata": {
        "tags": [],
        "id": "d0ddd69a-7f7d-4a82-a0eb-e53e1401bdf4"
      },
      "outputs": [],
      "source": [
        "# Checking the CRS of the geodataframe\n",
        "housing_gdf.crs"
      ]
    },
    {
      "cell_type": "code",
      "execution_count": 8,
      "id": "a2687c63-442b-41eb-a653-b98b3e96dbe2",
      "metadata": {
        "tags": [],
        "id": "a2687c63-442b-41eb-a653-b98b3e96dbe2"
      },
      "outputs": [],
      "source": [
        "import leafmap"
      ]
    },
    {
      "cell_type": "code",
      "execution_count": 9,
      "id": "5f162c71-65fc-4a22-8de6-596498f4660a",
      "metadata": {
        "tags": [],
        "id": "5f162c71-65fc-4a22-8de6-596498f4660a"
      },
      "outputs": [],
      "source": [
        "m = leafmap.Map()"
      ]
    },
    {
      "cell_type": "code",
      "execution_count": 10,
      "id": "4577b8c2-1941-47f4-9e58-cfab307bb67b",
      "metadata": {
        "tags": [],
        "colab": {
          "base_uri": "https://localhost:8080/",
          "height": 621,
          "referenced_widgets": [
            "57873d4465ec44a9af3bef1dc3612857",
            "49f4ac08daee4e05851e0e8fce34bcd0",
            "feedcd6c25614d41aa6ea7046b235750",
            "283c994619934208b29f1be55a773ead",
            "3784273683fb48c48ae27508ddd0f7b8",
            "3842d156d1d248f9b7e47f24c5a1b08e",
            "544da214934340409f782c577e8ad45d",
            "2df9f9905e7d4cb6871dd6474e348383",
            "5a416ea8078e47f5bd133f29e4cd7da6",
            "14ab7152364e42e5a76a3a5ac36543d5",
            "c2fe2fb3a5524a9fa974f78c34a2c0ef",
            "c4a29202a91b482ea88d1e93d7820b59",
            "718b832fa43e4fc6ada0f9d1230232b6",
            "bdd2e26742a04352a111631af4805ac3",
            "4b2fbf76d44c4ebd889d7309a2f7b37c",
            "30cfdd0a2beb4496ba2efc669bf7ccd4",
            "f741ee55322e45f683f0e857b46fa307",
            "068abcc05370492faeaa740c27351438",
            "e832bfe432ee44fa8843b614ecd7afa0",
            "bcdbe8116e354bb0885b4a7b43fef08e",
            "449823aea8f34a559fe71beef3cc5d63",
            "d2e91948eed140adb334e03e59ae1538"
          ]
        },
        "id": "4577b8c2-1941-47f4-9e58-cfab307bb67b",
        "outputId": "b8078d9f-50d1-426e-dc88-14cd54376cf0"
      },
      "outputs": [
        {
          "output_type": "display_data",
          "data": {
            "text/plain": [
              "Map(center=[20, 0], controls=(ZoomControl(options=['position', 'zoom_in_text', 'zoom_in_title', 'zoom_out_text…"
            ],
            "application/vnd.jupyter.widget-view+json": {
              "version_major": 2,
              "version_minor": 0,
              "model_id": "57873d4465ec44a9af3bef1dc3612857"
            }
          },
          "metadata": {
            "application/vnd.jupyter.widget-view+json": {
              "colab": {
                "custom_widget_manager": {
                  "url": "https://ssl.gstatic.com/colaboratory-static/widgets/colab-cdn-widget-manager/b3e629b1971e1542/manager.min.js"
                }
              }
            }
          }
        }
      ],
      "source": [
        "m"
      ]
    }
  ],
  "metadata": {
    "kernelspec": {
      "display_name": "Python 3 (ipykernel)",
      "language": "python",
      "name": "python3"
    },
    "language_info": {
      "codemirror_mode": {
        "name": "ipython",
        "version": 3
      },
      "file_extension": ".py",
      "mimetype": "text/x-python",
      "name": "python",
      "nbconvert_exporter": "python",
      "pygments_lexer": "ipython3",
      "version": "3.9.16"
    },
    "colab": {
      "provenance": [],
      "toc_visible": true,
      "include_colab_link": true
    },
    "widgets": {
      "application/vnd.jupyter.widget-state+json": {
        "57873d4465ec44a9af3bef1dc3612857": {
          "model_module": "jupyter-leaflet",
          "model_name": "LeafletMapModel",
          "model_module_version": "^0.17",
          "state": {
            "_dom_classes": [],
            "_model_module": "jupyter-leaflet",
            "_model_module_version": "^0.17",
            "_model_name": "LeafletMapModel",
            "_view_count": null,
            "_view_module": "jupyter-leaflet",
            "_view_module_version": "^0.17",
            "_view_name": "LeafletMapView",
            "bottom": 754,
            "bounce_at_zoom_limits": true,
            "box_zoom": true,
            "center": [
              19.973348786110613,
              0
            ],
            "close_popup_on_click": true,
            "controls": [
              "IPY_MODEL_49f4ac08daee4e05851e0e8fce34bcd0",
              "IPY_MODEL_feedcd6c25614d41aa6ea7046b235750",
              "IPY_MODEL_283c994619934208b29f1be55a773ead",
              "IPY_MODEL_3784273683fb48c48ae27508ddd0f7b8",
              "IPY_MODEL_3842d156d1d248f9b7e47f24c5a1b08e",
              "IPY_MODEL_544da214934340409f782c577e8ad45d",
              "IPY_MODEL_2df9f9905e7d4cb6871dd6474e348383",
              "IPY_MODEL_5a416ea8078e47f5bd133f29e4cd7da6",
              "IPY_MODEL_14ab7152364e42e5a76a3a5ac36543d5"
            ],
            "crs": {
              "name": "EPSG3857",
              "custom": false
            },
            "default_style": "IPY_MODEL_c2fe2fb3a5524a9fa974f78c34a2c0ef",
            "double_click_zoom": true,
            "dragging": true,
            "dragging_style": "IPY_MODEL_c4a29202a91b482ea88d1e93d7820b59",
            "east": 194.06250000000003,
            "fullscreen": false,
            "inertia": true,
            "inertia_deceleration": 3000,
            "inertia_max_speed": 1500,
            "interpolation": "bilinear",
            "keyboard": true,
            "keyboard_pan_offset": 80,
            "keyboard_zoom_offset": 1,
            "layers": [
              "IPY_MODEL_718b832fa43e4fc6ada0f9d1230232b6"
            ],
            "layout": "IPY_MODEL_bdd2e26742a04352a111631af4805ac3",
            "left": -40,
            "max_zoom": 24,
            "min_zoom": null,
            "modisdate": "2023-06-18",
            "north": 77.31251993823143,
            "options": [
              "bounce_at_zoom_limits",
              "box_zoom",
              "center",
              "close_popup_on_click",
              "double_click_zoom",
              "dragging",
              "fullscreen",
              "inertia",
              "inertia_deceleration",
              "inertia_max_speed",
              "interpolation",
              "keyboard",
              "keyboard_pan_offset",
              "keyboard_zoom_offset",
              "max_zoom",
              "min_zoom",
              "prefer_canvas",
              "scroll_wheel_zoom",
              "tap",
              "tap_tolerance",
              "touch_zoom",
              "world_copy_jump",
              "zoom",
              "zoom_animation_threshold",
              "zoom_delta",
              "zoom_snap"
            ],
            "panes": {},
            "prefer_canvas": false,
            "right": 1064,
            "scroll_wheel_zoom": true,
            "south": -64.47279382008165,
            "style": "IPY_MODEL_c2fe2fb3a5524a9fa974f78c34a2c0ef",
            "tap": true,
            "tap_tolerance": 15,
            "top": 154,
            "touch_zoom": true,
            "west": -194.06250000000003,
            "window_url": "https://o070uwg4ao8-496ff2e9c6d22116-0-colab.googleusercontent.com/outputframe.html?vrz=colab-20230614-060133-RC01_540321000",
            "world_copy_jump": false,
            "zoom": 2,
            "zoom_animation_threshold": 4,
            "zoom_delta": 1,
            "zoom_snap": 1
          }
        },
        "49f4ac08daee4e05851e0e8fce34bcd0": {
          "model_module": "jupyter-leaflet",
          "model_name": "LeafletZoomControlModel",
          "model_module_version": "^0.17",
          "state": {
            "_model_module": "jupyter-leaflet",
            "_model_module_version": "^0.17",
            "_model_name": "LeafletZoomControlModel",
            "_view_count": null,
            "_view_module": "jupyter-leaflet",
            "_view_module_version": "^0.17",
            "_view_name": "LeafletZoomControlView",
            "options": [
              "position",
              "zoom_in_text",
              "zoom_in_title",
              "zoom_out_text",
              "zoom_out_title"
            ],
            "position": "topleft",
            "zoom_in_text": "+",
            "zoom_in_title": "Zoom in",
            "zoom_out_text": "-",
            "zoom_out_title": "Zoom out"
          }
        },
        "feedcd6c25614d41aa6ea7046b235750": {
          "model_module": "jupyter-leaflet",
          "model_name": "LeafletAttributionControlModel",
          "model_module_version": "^0.17",
          "state": {
            "_model_module": "jupyter-leaflet",
            "_model_module_version": "^0.17",
            "_model_name": "LeafletAttributionControlModel",
            "_view_count": null,
            "_view_module": "jupyter-leaflet",
            "_view_module_version": "^0.17",
            "_view_name": "LeafletAttributionControlView",
            "options": [
              "position",
              "prefix"
            ],
            "position": "bottomright",
            "prefix": "ipyleaflet"
          }
        },
        "283c994619934208b29f1be55a773ead": {
          "model_module": "jupyter-leaflet",
          "model_name": "LeafletFullScreenControlModel",
          "model_module_version": "^0.17",
          "state": {
            "_model_module": "jupyter-leaflet",
            "_model_module_version": "^0.17",
            "_model_name": "LeafletFullScreenControlModel",
            "_view_count": null,
            "_view_module": "jupyter-leaflet",
            "_view_module_version": "^0.17",
            "_view_name": "LeafletFullScreenControlView",
            "options": [
              "position"
            ],
            "position": "topleft"
          }
        },
        "3784273683fb48c48ae27508ddd0f7b8": {
          "model_module": "jupyter-leaflet",
          "model_name": "LeafletSearchControlModel",
          "model_module_version": "^0.17",
          "state": {
            "_model_module": "jupyter-leaflet",
            "_model_module_version": "^0.17",
            "_model_name": "LeafletSearchControlModel",
            "_view_count": null,
            "_view_module": "jupyter-leaflet",
            "_view_module_version": "^0.17",
            "_view_name": "LeafletSearchControlView",
            "animate_location": false,
            "auto_collapse": false,
            "auto_type": false,
            "found_style": {
              "fillColor": "#3f0",
              "color": "#0f0"
            },
            "jsonp_param": "json_callback",
            "layer": null,
            "marker": null,
            "options": [
              "animate_location",
              "auto_collapse",
              "auto_type",
              "found_style",
              "jsonp_param",
              "position",
              "property_loc",
              "property_name",
              "url",
              "zoom"
            ],
            "position": "topleft",
            "property_loc": [
              "lat",
              "lon"
            ],
            "property_name": "display_name",
            "url": "https://nominatim.openstreetmap.org/search?format=json&q={s}",
            "zoom": 12
          }
        },
        "3842d156d1d248f9b7e47f24c5a1b08e": {
          "model_module": "jupyter-leaflet",
          "model_name": "LeafletDrawControlModel",
          "model_module_version": "^0.17",
          "state": {
            "_model_module": "jupyter-leaflet",
            "_model_module_version": "^0.17",
            "_model_name": "LeafletDrawControlModel",
            "_view_count": null,
            "_view_module": "jupyter-leaflet",
            "_view_module_version": "^0.17",
            "_view_name": "LeafletDrawControlView",
            "circle": {
              "shapeOptions": {
                "color": "#3388ff"
              },
              "repeatMode": false
            },
            "circlemarker": {},
            "data": [],
            "edit": true,
            "marker": {
              "shapeOptions": {
                "color": "#3388ff"
              },
              "repeatMode": false
            },
            "options": [
              "position"
            ],
            "polygon": {
              "repeatMode": false
            },
            "polyline": {
              "repeatMode": false
            },
            "position": "topleft",
            "rectangle": {
              "shapeOptions": {
                "color": "#3388ff"
              },
              "repeatMode": false
            },
            "remove": true
          }
        },
        "544da214934340409f782c577e8ad45d": {
          "model_module": "jupyter-leaflet",
          "model_name": "LeafletWidgetControlModel",
          "model_module_version": "^0.17",
          "state": {
            "_model_module": "jupyter-leaflet",
            "_model_module_version": "^0.17",
            "_model_name": "LeafletWidgetControlModel",
            "_view_count": null,
            "_view_module": "jupyter-leaflet",
            "_view_module_version": "^0.17",
            "_view_name": "LeafletWidgetControlView",
            "max_height": null,
            "max_width": null,
            "min_height": null,
            "min_width": null,
            "options": [
              "position",
              "transparent_bg"
            ],
            "position": "bottomright",
            "transparent_bg": false,
            "widget": "IPY_MODEL_30cfdd0a2beb4496ba2efc669bf7ccd4"
          }
        },
        "2df9f9905e7d4cb6871dd6474e348383": {
          "model_module": "jupyter-leaflet",
          "model_name": "LeafletMeasureControlModel",
          "model_module_version": "^0.17",
          "state": {
            "_custom_units": {},
            "_model_module": "jupyter-leaflet",
            "_model_module_version": "^0.17",
            "_model_name": "LeafletMeasureControlModel",
            "_view_count": null,
            "_view_module": "jupyter-leaflet",
            "_view_module_version": "^0.17",
            "_view_name": "LeafletMeasureControlView",
            "active_color": "#ABE67E",
            "capture_z_index": 10000,
            "completed_color": "#C8F2BE",
            "options": [
              "active_color",
              "capture_z_index",
              "completed_color",
              "popup_options",
              "position",
              "primary_area_unit",
              "primary_length_unit",
              "secondary_area_unit",
              "secondary_length_unit"
            ],
            "popup_options": {
              "className": "leaflet-measure-resultpopup",
              "autoPanPadding": [
                10,
                10
              ]
            },
            "position": "topleft",
            "primary_area_unit": "acres",
            "primary_length_unit": "feet",
            "secondary_area_unit": null,
            "secondary_length_unit": null
          }
        },
        "5a416ea8078e47f5bd133f29e4cd7da6": {
          "model_module": "jupyter-leaflet",
          "model_name": "LeafletScaleControlModel",
          "model_module_version": "^0.17",
          "state": {
            "_model_module": "jupyter-leaflet",
            "_model_module_version": "^0.17",
            "_model_name": "LeafletScaleControlModel",
            "_view_count": null,
            "_view_module": "jupyter-leaflet",
            "_view_module_version": "^0.17",
            "_view_name": "LeafletScaleControlView",
            "imperial": true,
            "max_width": 100,
            "metric": true,
            "options": [
              "imperial",
              "max_width",
              "metric",
              "position",
              "update_when_idle"
            ],
            "position": "bottomleft",
            "update_when_idle": false
          }
        },
        "14ab7152364e42e5a76a3a5ac36543d5": {
          "model_module": "jupyter-leaflet",
          "model_name": "LeafletWidgetControlModel",
          "model_module_version": "^0.17",
          "state": {
            "_model_module": "jupyter-leaflet",
            "_model_module_version": "^0.17",
            "_model_name": "LeafletWidgetControlModel",
            "_view_count": null,
            "_view_module": "jupyter-leaflet",
            "_view_module_version": "^0.17",
            "_view_name": "LeafletWidgetControlView",
            "max_height": null,
            "max_width": null,
            "min_height": null,
            "min_width": null,
            "options": [
              "position",
              "transparent_bg"
            ],
            "position": "topright",
            "transparent_bg": false,
            "widget": "IPY_MODEL_f741ee55322e45f683f0e857b46fa307"
          }
        },
        "c2fe2fb3a5524a9fa974f78c34a2c0ef": {
          "model_module": "jupyter-leaflet",
          "model_name": "LeafletMapStyleModel",
          "model_module_version": "^0.17",
          "state": {
            "_model_module": "jupyter-leaflet",
            "_model_module_version": "^0.17",
            "_model_name": "LeafletMapStyleModel",
            "_view_count": null,
            "_view_module": "@jupyter-widgets/base",
            "_view_module_version": "1.2.0",
            "_view_name": "StyleView",
            "cursor": "grab"
          }
        },
        "c4a29202a91b482ea88d1e93d7820b59": {
          "model_module": "jupyter-leaflet",
          "model_name": "LeafletMapStyleModel",
          "model_module_version": "^0.17",
          "state": {
            "_model_module": "jupyter-leaflet",
            "_model_module_version": "^0.17",
            "_model_name": "LeafletMapStyleModel",
            "_view_count": null,
            "_view_module": "@jupyter-widgets/base",
            "_view_module_version": "1.2.0",
            "_view_name": "StyleView",
            "cursor": "move"
          }
        },
        "718b832fa43e4fc6ada0f9d1230232b6": {
          "model_module": "jupyter-leaflet",
          "model_name": "LeafletTileLayerModel",
          "model_module_version": "^0.17",
          "state": {
            "_model_module": "jupyter-leaflet",
            "_model_module_version": "^0.17",
            "_model_name": "LeafletTileLayerModel",
            "_view_count": null,
            "_view_module": "jupyter-leaflet",
            "_view_module_version": "^0.17",
            "_view_name": "LeafletTileLayerView",
            "attribution": "&copy; <a href=\"https://www.openstreetmap.org/copyright\">OpenStreetMap</a> contributors",
            "base": true,
            "bottom": true,
            "bounds": null,
            "detect_retina": false,
            "loading": false,
            "max_native_zoom": null,
            "max_zoom": 19,
            "min_native_zoom": null,
            "min_zoom": 1,
            "name": "OpenStreetMap",
            "no_wrap": false,
            "opacity": 1,
            "options": [
              "attribution",
              "bounds",
              "detect_retina",
              "max_native_zoom",
              "max_zoom",
              "min_native_zoom",
              "min_zoom",
              "no_wrap",
              "tile_size",
              "tms",
              "zoom_offset"
            ],
            "pane": "",
            "popup": null,
            "popup_max_height": null,
            "popup_max_width": 300,
            "popup_min_width": 50,
            "show_loading": false,
            "subitems": [],
            "tile_size": 256,
            "tms": false,
            "url": "https://tile.openstreetmap.org/{z}/{x}/{y}.png",
            "visible": true,
            "zoom_offset": 0
          }
        },
        "bdd2e26742a04352a111631af4805ac3": {
          "model_module": "@jupyter-widgets/base",
          "model_name": "LayoutModel",
          "model_module_version": "1.2.0",
          "state": {
            "_model_module": "@jupyter-widgets/base",
            "_model_module_version": "1.2.0",
            "_model_name": "LayoutModel",
            "_view_count": null,
            "_view_module": "@jupyter-widgets/base",
            "_view_module_version": "1.2.0",
            "_view_name": "LayoutView",
            "align_content": null,
            "align_items": null,
            "align_self": null,
            "border": null,
            "bottom": null,
            "display": null,
            "flex": null,
            "flex_flow": null,
            "grid_area": null,
            "grid_auto_columns": null,
            "grid_auto_flow": null,
            "grid_auto_rows": null,
            "grid_column": null,
            "grid_gap": null,
            "grid_row": null,
            "grid_template_areas": null,
            "grid_template_columns": null,
            "grid_template_rows": null,
            "height": "600px",
            "justify_content": null,
            "justify_items": null,
            "left": null,
            "margin": null,
            "max_height": null,
            "max_width": null,
            "min_height": null,
            "min_width": null,
            "object_fit": null,
            "object_position": null,
            "order": null,
            "overflow": null,
            "overflow_x": null,
            "overflow_y": null,
            "padding": null,
            "right": null,
            "top": null,
            "visibility": null,
            "width": null
          }
        },
        "4b2fbf76d44c4ebd889d7309a2f7b37c": {
          "model_module": "jupyter-leaflet",
          "model_name": "LeafletMapStyleModel",
          "model_module_version": "^0.17",
          "state": {
            "_model_module": "jupyter-leaflet",
            "_model_module_version": "^0.17",
            "_model_name": "LeafletMapStyleModel",
            "_view_count": null,
            "_view_module": "@jupyter-widgets/base",
            "_view_module_version": "1.2.0",
            "_view_name": "StyleView",
            "cursor": "grab"
          }
        },
        "30cfdd0a2beb4496ba2efc669bf7ccd4": {
          "model_module": "@jupyter-widgets/output",
          "model_name": "OutputModel",
          "model_module_version": "1.0.0",
          "state": {
            "_dom_classes": [],
            "_model_module": "@jupyter-widgets/output",
            "_model_module_version": "1.0.0",
            "_model_name": "OutputModel",
            "_view_count": null,
            "_view_module": "@jupyter-widgets/output",
            "_view_module_version": "1.0.0",
            "_view_name": "OutputView",
            "layout": "IPY_MODEL_068abcc05370492faeaa740c27351438",
            "msg_id": "",
            "outputs": []
          }
        },
        "f741ee55322e45f683f0e857b46fa307": {
          "model_module": "@jupyter-widgets/controls",
          "model_name": "VBoxModel",
          "model_module_version": "1.5.0",
          "state": {
            "_dom_classes": [],
            "_model_module": "@jupyter-widgets/controls",
            "_model_module_version": "1.5.0",
            "_model_name": "VBoxModel",
            "_view_count": null,
            "_view_module": "@jupyter-widgets/controls",
            "_view_module_version": "1.5.0",
            "_view_name": "VBoxView",
            "box_style": "",
            "children": [
              "IPY_MODEL_e832bfe432ee44fa8843b614ecd7afa0"
            ],
            "layout": "IPY_MODEL_bcdbe8116e354bb0885b4a7b43fef08e"
          }
        },
        "068abcc05370492faeaa740c27351438": {
          "model_module": "@jupyter-widgets/base",
          "model_name": "LayoutModel",
          "model_module_version": "1.2.0",
          "state": {
            "_model_module": "@jupyter-widgets/base",
            "_model_module_version": "1.2.0",
            "_model_name": "LayoutModel",
            "_view_count": null,
            "_view_module": "@jupyter-widgets/base",
            "_view_module_version": "1.2.0",
            "_view_name": "LayoutView",
            "align_content": null,
            "align_items": null,
            "align_self": null,
            "border": null,
            "bottom": null,
            "display": null,
            "flex": null,
            "flex_flow": null,
            "grid_area": null,
            "grid_auto_columns": null,
            "grid_auto_flow": null,
            "grid_auto_rows": null,
            "grid_column": null,
            "grid_gap": null,
            "grid_row": null,
            "grid_template_areas": null,
            "grid_template_columns": null,
            "grid_template_rows": null,
            "height": null,
            "justify_content": null,
            "justify_items": null,
            "left": null,
            "margin": null,
            "max_height": null,
            "max_width": null,
            "min_height": null,
            "min_width": null,
            "object_fit": null,
            "object_position": null,
            "order": null,
            "overflow": null,
            "overflow_x": null,
            "overflow_y": null,
            "padding": null,
            "right": null,
            "top": null,
            "visibility": null,
            "width": null
          }
        },
        "e832bfe432ee44fa8843b614ecd7afa0": {
          "model_module": "@jupyter-widgets/controls",
          "model_name": "ToggleButtonModel",
          "model_module_version": "1.5.0",
          "state": {
            "_dom_classes": [],
            "_model_module": "@jupyter-widgets/controls",
            "_model_module_version": "1.5.0",
            "_model_name": "ToggleButtonModel",
            "_view_count": null,
            "_view_module": "@jupyter-widgets/controls",
            "_view_module_version": "1.5.0",
            "_view_name": "ToggleButtonView",
            "button_style": "",
            "description": "",
            "description_tooltip": null,
            "disabled": false,
            "icon": "wrench",
            "layout": "IPY_MODEL_449823aea8f34a559fe71beef3cc5d63",
            "style": "IPY_MODEL_d2e91948eed140adb334e03e59ae1538",
            "tooltip": "Toolbar",
            "value": false
          }
        },
        "bcdbe8116e354bb0885b4a7b43fef08e": {
          "model_module": "@jupyter-widgets/base",
          "model_name": "LayoutModel",
          "model_module_version": "1.2.0",
          "state": {
            "_model_module": "@jupyter-widgets/base",
            "_model_module_version": "1.2.0",
            "_model_name": "LayoutModel",
            "_view_count": null,
            "_view_module": "@jupyter-widgets/base",
            "_view_module_version": "1.2.0",
            "_view_name": "LayoutView",
            "align_content": null,
            "align_items": null,
            "align_self": null,
            "border": null,
            "bottom": null,
            "display": null,
            "flex": null,
            "flex_flow": null,
            "grid_area": null,
            "grid_auto_columns": null,
            "grid_auto_flow": null,
            "grid_auto_rows": null,
            "grid_column": null,
            "grid_gap": null,
            "grid_row": null,
            "grid_template_areas": null,
            "grid_template_columns": null,
            "grid_template_rows": null,
            "height": null,
            "justify_content": null,
            "justify_items": null,
            "left": null,
            "margin": null,
            "max_height": null,
            "max_width": null,
            "min_height": null,
            "min_width": null,
            "object_fit": null,
            "object_position": null,
            "order": null,
            "overflow": null,
            "overflow_x": null,
            "overflow_y": null,
            "padding": null,
            "right": null,
            "top": null,
            "visibility": null,
            "width": null
          }
        },
        "449823aea8f34a559fe71beef3cc5d63": {
          "model_module": "@jupyter-widgets/base",
          "model_name": "LayoutModel",
          "model_module_version": "1.2.0",
          "state": {
            "_model_module": "@jupyter-widgets/base",
            "_model_module_version": "1.2.0",
            "_model_name": "LayoutModel",
            "_view_count": null,
            "_view_module": "@jupyter-widgets/base",
            "_view_module_version": "1.2.0",
            "_view_name": "LayoutView",
            "align_content": null,
            "align_items": null,
            "align_self": null,
            "border": null,
            "bottom": null,
            "display": null,
            "flex": null,
            "flex_flow": null,
            "grid_area": null,
            "grid_auto_columns": null,
            "grid_auto_flow": null,
            "grid_auto_rows": null,
            "grid_column": null,
            "grid_gap": null,
            "grid_row": null,
            "grid_template_areas": null,
            "grid_template_columns": null,
            "grid_template_rows": null,
            "height": "28px",
            "justify_content": null,
            "justify_items": null,
            "left": null,
            "margin": null,
            "max_height": null,
            "max_width": null,
            "min_height": null,
            "min_width": null,
            "object_fit": null,
            "object_position": null,
            "order": null,
            "overflow": null,
            "overflow_x": null,
            "overflow_y": null,
            "padding": "0px 0px 0px 4px",
            "right": null,
            "top": null,
            "visibility": null,
            "width": "28px"
          }
        },
        "d2e91948eed140adb334e03e59ae1538": {
          "model_module": "@jupyter-widgets/controls",
          "model_name": "DescriptionStyleModel",
          "model_module_version": "1.5.0",
          "state": {
            "_model_module": "@jupyter-widgets/controls",
            "_model_module_version": "1.5.0",
            "_model_name": "DescriptionStyleModel",
            "_view_count": null,
            "_view_module": "@jupyter-widgets/base",
            "_view_module_version": "1.2.0",
            "_view_name": "StyleView",
            "description_width": ""
          }
        }
      }
    }
  },
  "nbformat": 4,
  "nbformat_minor": 5
}