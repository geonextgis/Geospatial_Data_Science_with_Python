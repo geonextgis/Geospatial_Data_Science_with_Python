{
 "cells": [
  {
   "cell_type": "markdown",
   "id": "3f6a2877-418a-4a2c-972f-f1ec75ee6c3a",
   "metadata": {},
   "source": [
    "## **Import Required Libraries**"
   ]
  },
  {
   "cell_type": "code",
   "execution_count": 1,
   "id": "aadbcb41-af70-4c2f-b26d-ec7c9fb85a64",
   "metadata": {
    "tags": []
   },
   "outputs": [
    {
     "ename": "ImportError",
     "evalue": "DLL load failed while importing _imaging: The specified module could not be found.",
     "output_type": "error",
     "traceback": [
      "\u001b[1;31m---------------------------------------------------------------------------\u001b[0m",
      "\u001b[1;31mImportError\u001b[0m                               Traceback (most recent call last)",
      "Cell \u001b[1;32mIn[1], line 4\u001b[0m\n\u001b[0;32m      2\u001b[0m \u001b[38;5;28;01mimport\u001b[39;00m \u001b[38;5;21;01mpandas\u001b[39;00m \u001b[38;5;28;01mas\u001b[39;00m \u001b[38;5;21;01mpd\u001b[39;00m\n\u001b[0;32m      3\u001b[0m \u001b[38;5;28;01mimport\u001b[39;00m \u001b[38;5;21;01mgeopandas\u001b[39;00m \u001b[38;5;28;01mas\u001b[39;00m \u001b[38;5;21;01mgpd\u001b[39;00m\n\u001b[1;32m----> 4\u001b[0m \u001b[38;5;28;01mimport\u001b[39;00m \u001b[38;5;21;01mmatplotlib\u001b[39;00m\u001b[38;5;21;01m.\u001b[39;00m\u001b[38;5;21;01mpyplot\u001b[39;00m \u001b[38;5;28;01mas\u001b[39;00m \u001b[38;5;21;01mplt\u001b[39;00m\n",
      "File \u001b[1;32m~\\miniconda3\\envs\\spatial\\lib\\site-packages\\matplotlib\\__init__.py:109\u001b[0m\n\u001b[0;32m    105\u001b[0m \u001b[38;5;28;01mfrom\u001b[39;00m \u001b[38;5;21;01mpackaging\u001b[39;00m\u001b[38;5;21;01m.\u001b[39;00m\u001b[38;5;21;01mversion\u001b[39;00m \u001b[38;5;28;01mimport\u001b[39;00m parse \u001b[38;5;28;01mas\u001b[39;00m parse_version\n\u001b[0;32m    107\u001b[0m \u001b[38;5;66;03m# cbook must import matplotlib only within function\u001b[39;00m\n\u001b[0;32m    108\u001b[0m \u001b[38;5;66;03m# definitions, so it is safe to import from it here.\u001b[39;00m\n\u001b[1;32m--> 109\u001b[0m \u001b[38;5;28;01mfrom\u001b[39;00m \u001b[38;5;21;01m.\u001b[39;00m \u001b[38;5;28;01mimport\u001b[39;00m _api, _version, cbook, docstring, rcsetup\n\u001b[0;32m    110\u001b[0m \u001b[38;5;28;01mfrom\u001b[39;00m \u001b[38;5;21;01mmatplotlib\u001b[39;00m\u001b[38;5;21;01m.\u001b[39;00m\u001b[38;5;21;01mcbook\u001b[39;00m \u001b[38;5;28;01mimport\u001b[39;00m MatplotlibDeprecationWarning, sanitize_sequence\n\u001b[0;32m    111\u001b[0m \u001b[38;5;28;01mfrom\u001b[39;00m \u001b[38;5;21;01mmatplotlib\u001b[39;00m\u001b[38;5;21;01m.\u001b[39;00m\u001b[38;5;21;01mcbook\u001b[39;00m \u001b[38;5;28;01mimport\u001b[39;00m mplDeprecation  \u001b[38;5;66;03m# deprecated\u001b[39;00m\n",
      "File \u001b[1;32m~\\miniconda3\\envs\\spatial\\lib\\site-packages\\matplotlib\\rcsetup.py:27\u001b[0m\n\u001b[0;32m     25\u001b[0m \u001b[38;5;28;01mfrom\u001b[39;00m \u001b[38;5;21;01mmatplotlib\u001b[39;00m \u001b[38;5;28;01mimport\u001b[39;00m _api, cbook\n\u001b[0;32m     26\u001b[0m \u001b[38;5;28;01mfrom\u001b[39;00m \u001b[38;5;21;01mmatplotlib\u001b[39;00m\u001b[38;5;21;01m.\u001b[39;00m\u001b[38;5;21;01mcbook\u001b[39;00m \u001b[38;5;28;01mimport\u001b[39;00m ls_mapper\n\u001b[1;32m---> 27\u001b[0m \u001b[38;5;28;01mfrom\u001b[39;00m \u001b[38;5;21;01mmatplotlib\u001b[39;00m\u001b[38;5;21;01m.\u001b[39;00m\u001b[38;5;21;01mcolors\u001b[39;00m \u001b[38;5;28;01mimport\u001b[39;00m Colormap, is_color_like\n\u001b[0;32m     28\u001b[0m \u001b[38;5;28;01mfrom\u001b[39;00m \u001b[38;5;21;01mmatplotlib\u001b[39;00m\u001b[38;5;21;01m.\u001b[39;00m\u001b[38;5;21;01mfontconfig_pattern\u001b[39;00m \u001b[38;5;28;01mimport\u001b[39;00m parse_fontconfig_pattern\n\u001b[0;32m     29\u001b[0m \u001b[38;5;28;01mfrom\u001b[39;00m \u001b[38;5;21;01mmatplotlib\u001b[39;00m\u001b[38;5;21;01m.\u001b[39;00m\u001b[38;5;21;01m_enums\u001b[39;00m \u001b[38;5;28;01mimport\u001b[39;00m JoinStyle, CapStyle\n",
      "File \u001b[1;32m~\\miniconda3\\envs\\spatial\\lib\\site-packages\\matplotlib\\colors.py:51\u001b[0m\n\u001b[0;32m     49\u001b[0m \u001b[38;5;28;01mfrom\u001b[39;00m \u001b[38;5;21;01mnumbers\u001b[39;00m \u001b[38;5;28;01mimport\u001b[39;00m Number\n\u001b[0;32m     50\u001b[0m \u001b[38;5;28;01mimport\u001b[39;00m \u001b[38;5;21;01mre\u001b[39;00m\n\u001b[1;32m---> 51\u001b[0m \u001b[38;5;28;01mfrom\u001b[39;00m \u001b[38;5;21;01mPIL\u001b[39;00m \u001b[38;5;28;01mimport\u001b[39;00m Image\n\u001b[0;32m     52\u001b[0m \u001b[38;5;28;01mfrom\u001b[39;00m \u001b[38;5;21;01mPIL\u001b[39;00m\u001b[38;5;21;01m.\u001b[39;00m\u001b[38;5;21;01mPngImagePlugin\u001b[39;00m \u001b[38;5;28;01mimport\u001b[39;00m PngInfo\n\u001b[0;32m     54\u001b[0m \u001b[38;5;28;01mimport\u001b[39;00m \u001b[38;5;21;01mmatplotlib\u001b[39;00m \u001b[38;5;28;01mas\u001b[39;00m \u001b[38;5;21;01mmpl\u001b[39;00m\n",
      "File \u001b[1;32m~\\miniconda3\\envs\\spatial\\lib\\site-packages\\PIL\\Image.py:103\u001b[0m\n\u001b[0;32m     94\u001b[0m MAX_IMAGE_PIXELS \u001b[38;5;241m=\u001b[39m \u001b[38;5;28mint\u001b[39m(\u001b[38;5;241m1024\u001b[39m \u001b[38;5;241m*\u001b[39m \u001b[38;5;241m1024\u001b[39m \u001b[38;5;241m*\u001b[39m \u001b[38;5;241m1024\u001b[39m \u001b[38;5;241m/\u001b[39m\u001b[38;5;241m/\u001b[39m \u001b[38;5;241m4\u001b[39m \u001b[38;5;241m/\u001b[39m\u001b[38;5;241m/\u001b[39m \u001b[38;5;241m3\u001b[39m)\n\u001b[0;32m     97\u001b[0m \u001b[38;5;28;01mtry\u001b[39;00m:\n\u001b[0;32m     98\u001b[0m     \u001b[38;5;66;03m# If the _imaging C module is not present, Pillow will not load.\u001b[39;00m\n\u001b[0;32m     99\u001b[0m     \u001b[38;5;66;03m# Note that other modules should not refer to _imaging directly;\u001b[39;00m\n\u001b[0;32m    100\u001b[0m     \u001b[38;5;66;03m# import Image and use the Image.core variable instead.\u001b[39;00m\n\u001b[0;32m    101\u001b[0m     \u001b[38;5;66;03m# Also note that Image.core is not a publicly documented interface,\u001b[39;00m\n\u001b[0;32m    102\u001b[0m     \u001b[38;5;66;03m# and should be considered private and subject to change.\u001b[39;00m\n\u001b[1;32m--> 103\u001b[0m     \u001b[38;5;28;01mfrom\u001b[39;00m \u001b[38;5;21;01m.\u001b[39;00m \u001b[38;5;28;01mimport\u001b[39;00m _imaging \u001b[38;5;28;01mas\u001b[39;00m core\n\u001b[0;32m    105\u001b[0m     \u001b[38;5;28;01mif\u001b[39;00m __version__ \u001b[38;5;241m!=\u001b[39m \u001b[38;5;28mgetattr\u001b[39m(core, \u001b[38;5;124m\"\u001b[39m\u001b[38;5;124mPILLOW_VERSION\u001b[39m\u001b[38;5;124m\"\u001b[39m, \u001b[38;5;28;01mNone\u001b[39;00m):\n\u001b[0;32m    106\u001b[0m         msg \u001b[38;5;241m=\u001b[39m (\n\u001b[0;32m    107\u001b[0m             \u001b[38;5;124m\"\u001b[39m\u001b[38;5;124mThe _imaging extension was built for another version of Pillow or PIL:\u001b[39m\u001b[38;5;130;01m\\n\u001b[39;00m\u001b[38;5;124m\"\u001b[39m\n\u001b[0;32m    108\u001b[0m             \u001b[38;5;124mf\u001b[39m\u001b[38;5;124m\"\u001b[39m\u001b[38;5;124mCore version: \u001b[39m\u001b[38;5;132;01m{\u001b[39;00m\u001b[38;5;28mgetattr\u001b[39m(core, \u001b[38;5;124m'\u001b[39m\u001b[38;5;124mPILLOW_VERSION\u001b[39m\u001b[38;5;124m'\u001b[39m, \u001b[38;5;28;01mNone\u001b[39;00m)\u001b[38;5;132;01m}\u001b[39;00m\u001b[38;5;130;01m\\n\u001b[39;00m\u001b[38;5;124m\"\u001b[39m\n\u001b[0;32m    109\u001b[0m             \u001b[38;5;124mf\u001b[39m\u001b[38;5;124m\"\u001b[39m\u001b[38;5;124mPillow version: \u001b[39m\u001b[38;5;132;01m{\u001b[39;00m__version__\u001b[38;5;132;01m}\u001b[39;00m\u001b[38;5;124m\"\u001b[39m\n\u001b[0;32m    110\u001b[0m         )\n",
      "\u001b[1;31mImportError\u001b[0m: DLL load failed while importing _imaging: The specified module could not be found."
     ]
    }
   ],
   "source": [
    "import os\n",
    "import pandas as pd\n",
    "import geopandas as gpd\n",
    "import matplotlib.pyplot as plt"
   ]
  },
  {
   "cell_type": "markdown",
   "id": "93932515-e362-4064-83b0-ce88b1f483fc",
   "metadata": {},
   "source": [
    "## **Setting Up the Current Working Directory**"
   ]
  },
  {
   "cell_type": "code",
   "execution_count": null,
   "id": "dd856abc-ecb4-4658-b7cb-1294b936d531",
   "metadata": {
    "tags": []
   },
   "outputs": [],
   "source": [
    "# Checking the current working directory\n",
    "os.getcwd()"
   ]
  },
  {
   "cell_type": "code",
   "execution_count": null,
   "id": "c6c4708c-7f61-4327-a360-3916ca295b71",
   "metadata": {
    "tags": []
   },
   "outputs": [],
   "source": [
    "# Changing the current working directory\n",
    "file_path = r\"D:\\Coding\\Git Repository\\Geospatial_Data_Science_with_Python\\Datasets\"\n",
    "os.chdir(file_path)\n",
    "csv_path = file_path + \"\\\\CSVs\"\n",
    "shp_path = file_path + \"\\\\Shapafiles\""
   ]
  },
  {
   "cell_type": "code",
   "execution_count": null,
   "id": "42d2abfb-a770-4f08-8801-59904e86c8b0",
   "metadata": {
    "tags": []
   },
   "outputs": [],
   "source": [
    "# Checking the new current working directory\n",
    "os.getcwd()"
   ]
  },
  {
   "cell_type": "markdown",
   "id": "47e61520-6543-425e-b3c0-8b85db7f98a3",
   "metadata": {},
   "source": [
    "## **Reading the Data**"
   ]
  },
  {
   "cell_type": "markdown",
   "id": "042438c8-d19b-4d34-a997-44ff2c33ad1a",
   "metadata": {},
   "source": [
    "**Dataset Description:**<br>\n",
    "This is the dataset used in the second chapter of Aurélien Géron's recent book 'Hands-On Machine learning with Scikit-Learn and TensorFlow'. It serves as an excellent introduction to implementing machine learning algorithms because it requires rudimentary data cleaning, has an easily understandable list of variables and sits at an optimal size between being to toyish and too cumbersome.\n",
    "\n",
    "The data contains information from the 1990 California census. So although it may not help you with predicting current housing prices like the Zillow Zestimate dataset, it does provide an accessible introductory dataset for teaching people about the basics of machine learning.\n",
    "\n",
    "**Content:**<br>\n",
    "1. longitude: A measure of how far west a house is; a higher value is farther west\n",
    "2. latitude: A measure of how far north a house is; a higher value is farther north\n",
    "3. housingMedianAge: Median age of a house within a block; a lower number is a newer building\n",
    "4. totalRooms: Total number of rooms within a block\n",
    "5. totalBedrooms: Total number of bedrooms within a block\n",
    "6. population: Total number of people residing within a block\n",
    "7. households: Total number of households, a group of people residing within a home unit, for a block\n",
    "8. medianIncome: Median income for households within a block of houses (measured in tens of thousands of US Dollars)\n",
    "9. medianHouseValue: Median house value for households within a block (measured in US Dollars)\n",
    "10. oceanProximity: Location of the house w.r.t ocean/sea"
   ]
  },
  {
   "cell_type": "code",
   "execution_count": null,
   "id": "d59788f1-b379-4ebf-9cc5-ae0613075aef",
   "metadata": {
    "tags": []
   },
   "outputs": [],
   "source": [
    "# Reading the housing.csv data with pandas\n",
    "housing = pd.read_csv(csv_path + \"\\\\housing.csv\")\n",
    "# Checking the name of the columns\n",
    "housing.columns"
   ]
  },
  {
   "cell_type": "code",
   "execution_count": null,
   "id": "47408497-1f0a-4f5f-84fa-5c7d80d3dd7b",
   "metadata": {
    "tags": []
   },
   "outputs": [],
   "source": [
    "# Checking the first 5 rows of the data\n",
    "housing.head()"
   ]
  },
  {
   "cell_type": "code",
   "execution_count": null,
   "id": "72f46b03-57b0-4728-9695-c293da1130a9",
   "metadata": {
    "tags": []
   },
   "outputs": [],
   "source": [
    "# Checking the shape of the dataframe\n",
    "housing.shape"
   ]
  },
  {
   "cell_type": "markdown",
   "id": "595fbf5b-d475-4ae6-969e-7e5887d4d948",
   "metadata": {},
   "source": [
    "## **Conducting Exploratory Data Analysis (EDA)**"
   ]
  },
  {
   "cell_type": "code",
   "execution_count": null,
   "id": "2aecb709-ee80-4fb9-a719-c5dc66ca0c9f",
   "metadata": {
    "tags": []
   },
   "outputs": [],
   "source": [
    "# Checking the non-null values in each column\n",
    "housing.info()"
   ]
  },
  {
   "cell_type": "code",
   "execution_count": null,
   "id": "662b542c-442b-4ea2-b5b8-93d4137fa39c",
   "metadata": {
    "tags": []
   },
   "outputs": [],
   "source": [
    "# Cleaning the data\n",
    "housing.dropna(inplace=True)"
   ]
  },
  {
   "cell_type": "code",
   "execution_count": null,
   "id": "5f4e1603-ba13-41cd-8e32-e251d85c4aa9",
   "metadata": {
    "tags": []
   },
   "outputs": [],
   "source": [
    "# Checking the shape of the dataframe\n",
    "housing.shape"
   ]
  },
  {
   "cell_type": "code",
   "execution_count": null,
   "id": "05aa750a-f4f4-4b27-bc13-e5b40f7a7978",
   "metadata": {
    "tags": []
   },
   "outputs": [],
   "source": [
    "# Checking the value counts of the ocean_proximity column\n",
    "housing[\"ocean_proximity\"].value_counts()"
   ]
  },
  {
   "cell_type": "code",
   "execution_count": null,
   "id": "83405f2a-ba48-4f4d-9a2e-421c4b6f8ed1",
   "metadata": {
    "tags": []
   },
   "outputs": [],
   "source": [
    "# Definining a dictionary to encode the values of ocean_proximity column from string to int\n",
    "ocean_proximity_dict = {\"ISLAND\": 0, \"NEAR BAY\": 1, \"NEAR OCEAN\": 2, \"INLAND\": 3, \"<1H OCEAN\": 4}\n",
    "# Encoding the ocean_proximity column\n",
    "encoded_ocean_proximity = housing[\"ocean_proximity\"].replace(ocean_proximity_dict)"
   ]
  },
  {
   "cell_type": "code",
   "execution_count": null,
   "id": "d9bed6b6-f386-44e1-9231-df121d7c6cb6",
   "metadata": {
    "tags": []
   },
   "outputs": [],
   "source": [
    "# Creating a copy of housing dataframe\n",
    "housing_copy = housing.copy()"
   ]
  },
  {
   "cell_type": "code",
   "execution_count": null,
   "id": "fb4811c5-bdff-48cb-b811-be4900712506",
   "metadata": {
    "tags": []
   },
   "outputs": [],
   "source": [
    "# Setting the encoded values of ocean_proximity column\n",
    "housing_copy[\"ocean_proximity\"] = encoded_ocean_proximity\n",
    "# Checking the first 5 rows of the new housing_copy dataframe\n",
    "housing_copy.head()"
   ]
  },
  {
   "cell_type": "code",
   "execution_count": null,
   "id": "abdac76c-e35e-48ea-bbf3-1932bfd876cf",
   "metadata": {
    "tags": []
   },
   "outputs": [],
   "source": [
    "# Checking the non-null values in each column of the new housing_copy dataframe\n",
    "housing_copy.info()"
   ]
  },
  {
   "cell_type": "code",
   "execution_count": null,
   "id": "0aa280c4-a592-4e5b-a7ee-c54577ccb960",
   "metadata": {
    "tags": []
   },
   "outputs": [],
   "source": [
    "# Dropping the rows with null values\n",
    "housing_copy.dropna(inplace=True)\n",
    "# Resetting the index\n",
    "housing_copy.reset_index(inplace=True, drop=True)"
   ]
  },
  {
   "cell_type": "code",
   "execution_count": null,
   "id": "6d3a839d-a18a-43ab-9596-c0ccb1c62cea",
   "metadata": {
    "tags": []
   },
   "outputs": [],
   "source": [
    "# Checking the final dataframe\n",
    "housing_copy.head()"
   ]
  },
  {
   "cell_type": "code",
   "execution_count": null,
   "id": "45fe9bf6-31bf-4ed2-b654-62a54adbcf55",
   "metadata": {
    "tags": []
   },
   "outputs": [],
   "source": [
    "# Checking the dataframe information\n",
    "housing_copy.info()"
   ]
  },
  {
   "cell_type": "code",
   "execution_count": null,
   "id": "1ae3880b-07c0-4217-8dc7-1c5bc5c4ce89",
   "metadata": {
    "tags": []
   },
   "outputs": [],
   "source": [
    "# Describing the dataframe\n",
    "housing_copy.describe()"
   ]
  },
  {
   "cell_type": "code",
   "execution_count": null,
   "id": "7275c479-f6d2-44f3-87e9-41fa7945d98c",
   "metadata": {
    "tags": []
   },
   "outputs": [],
   "source": [
    "# Create a visual representation of the data\n",
    "housing_copy.hist(bins=50, figsize=(20, 18))"
   ]
  },
  {
   "cell_type": "markdown",
   "id": "929d8eba-d636-463e-b371-ee3fc7fa21a6",
   "metadata": {},
   "source": [
    "## **Exploratory Spatial Data Analysis (ESDA)**"
   ]
  },
  {
   "cell_type": "code",
   "execution_count": null,
   "id": "60300311-8440-43b1-aff5-72f03a90c9ec",
   "metadata": {
    "tags": []
   },
   "outputs": [],
   "source": [
    "# Converting the pandas dataframe to a geopandas dataframe\n",
    "housing_gdf = gpd.GeoDataFrame(housing_copy, geometry=gpd.points_from_xy(housing_copy.longitude, housing_copy.latitude, crs=4326))"
   ]
  },
  {
   "cell_type": "code",
   "execution_count": null,
   "id": "d0ddd69a-7f7d-4a82-a0eb-e53e1401bdf4",
   "metadata": {
    "tags": []
   },
   "outputs": [],
   "source": [
    "# Checking the CRS of the geodataframe\n",
    "housing_gdf.crs"
   ]
  },
  {
   "cell_type": "code",
   "execution_count": null,
   "id": "a2687c63-442b-41eb-a653-b98b3e96dbe2",
   "metadata": {
    "tags": []
   },
   "outputs": [],
   "source": [
    "import leafmap"
   ]
  },
  {
   "cell_type": "code",
   "execution_count": null,
   "id": "5f162c71-65fc-4a22-8de6-596498f4660a",
   "metadata": {
    "tags": []
   },
   "outputs": [],
   "source": [
    "m = leafmap.Map()"
   ]
  },
  {
   "cell_type": "code",
   "execution_count": null,
   "id": "4577b8c2-1941-47f4-9e58-cfab307bb67b",
   "metadata": {
    "tags": []
   },
   "outputs": [],
   "source": [
    "m"
   ]
  }
 ],
 "metadata": {
  "kernelspec": {
   "display_name": "Python 3 (ipykernel)",
   "language": "python",
   "name": "python3"
  },
  "language_info": {
   "codemirror_mode": {
    "name": "ipython",
    "version": 3
   },
   "file_extension": ".py",
   "mimetype": "text/x-python",
   "name": "python",
   "nbconvert_exporter": "python",
   "pygments_lexer": "ipython3",
   "version": "3.9.16"
  }
 },
 "nbformat": 4,
 "nbformat_minor": 5
}
